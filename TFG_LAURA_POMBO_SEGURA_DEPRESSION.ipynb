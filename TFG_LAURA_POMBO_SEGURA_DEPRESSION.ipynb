{
 "cells": [
  {
   "cell_type": "markdown",
   "id": "55911208",
   "metadata": {},
   "source": [
    "### Trabajo Fin de Grado - Laura Pombo Segura\n",
    "\n",
    "---"
   ]
  },
  {
   "cell_type": "markdown",
   "id": "cc034054",
   "metadata": {},
   "source": [
    "*'Predicción de depresión desde síntomas psicológicos y emocionales'*"
   ]
  },
  {
   "cell_type": "markdown",
   "id": "a7040e7a",
   "metadata": {},
   "source": [
    "#### DATASET"
   ]
  },
  {
   "cell_type": "markdown",
   "id": "5eefddf5",
   "metadata": {},
   "source": [
    "Es una base de datos de 39775 personas que han realizado una encuesta para poder medir tres estados emocionales negativos relacionados: depresión, ansiedad y tensión/estrés. DASS-42."
   ]
  },
  {
   "cell_type": "markdown",
   "id": "6bf495e1",
   "metadata": {},
   "source": [
    "### 1. Ingeniería del dato"
   ]
  },
  {
   "cell_type": "markdown",
   "id": "f1a6ecf8",
   "metadata": {},
   "source": [
    "Esta primera fase dará comienzo con la limpieza y transformacion sobre la base de datos 'QuestionsDataset.xlsx'. \n",
    "\n",
    "---"
   ]
  },
  {
   "cell_type": "markdown",
   "id": "81857a40",
   "metadata": {},
   "source": [
    "1.1. Importamos librerías"
   ]
  },
  {
   "cell_type": "code",
   "execution_count": 58,
   "id": "b24e436c",
   "metadata": {},
   "outputs": [],
   "source": [
    "from sklearn.preprocessing import StandardScaler\n",
    "import matplotlib.pyplot as plt\n",
    "import seaborn as sns\n",
    "import pandas as pd\n",
    "import numpy as np\n",
    "import pycountry"
   ]
  },
  {
   "cell_type": "markdown",
   "id": "56a56e5f",
   "metadata": {},
   "source": [
    "1.2. Importamos la base de datos"
   ]
  },
  {
   "cell_type": "code",
   "execution_count": 59,
   "id": "fd5f7a9e",
   "metadata": {
    "scrolled": false
   },
   "outputs": [
    {
     "data": {
      "text/html": [
       "<div>\n",
       "<style scoped>\n",
       "    .dataframe tbody tr th:only-of-type {\n",
       "        vertical-align: middle;\n",
       "    }\n",
       "\n",
       "    .dataframe tbody tr th {\n",
       "        vertical-align: top;\n",
       "    }\n",
       "\n",
       "    .dataframe thead th {\n",
       "        text-align: right;\n",
       "    }\n",
       "</style>\n",
       "<table border=\"1\" class=\"dataframe\">\n",
       "  <thead>\n",
       "    <tr style=\"text-align: right;\">\n",
       "      <th></th>\n",
       "      <th>Q1A</th>\n",
       "      <th>Q1I</th>\n",
       "      <th>Q1E</th>\n",
       "      <th>Q2A</th>\n",
       "      <th>Q2I</th>\n",
       "      <th>Q2E</th>\n",
       "      <th>Q3A</th>\n",
       "      <th>Q3I</th>\n",
       "      <th>Q3E</th>\n",
       "      <th>Q4A</th>\n",
       "      <th>...</th>\n",
       "      <th>screensize</th>\n",
       "      <th>uniquenetworklocation</th>\n",
       "      <th>hand</th>\n",
       "      <th>religion</th>\n",
       "      <th>orientation</th>\n",
       "      <th>race</th>\n",
       "      <th>voted</th>\n",
       "      <th>married</th>\n",
       "      <th>familysize</th>\n",
       "      <th>major</th>\n",
       "    </tr>\n",
       "  </thead>\n",
       "  <tbody>\n",
       "    <tr>\n",
       "      <th>0</th>\n",
       "      <td>4</td>\n",
       "      <td>28</td>\n",
       "      <td>3890</td>\n",
       "      <td>4</td>\n",
       "      <td>25</td>\n",
       "      <td>2122</td>\n",
       "      <td>2</td>\n",
       "      <td>16</td>\n",
       "      <td>1944</td>\n",
       "      <td>4</td>\n",
       "      <td>...</td>\n",
       "      <td>1</td>\n",
       "      <td>1</td>\n",
       "      <td>1</td>\n",
       "      <td>12</td>\n",
       "      <td>1</td>\n",
       "      <td>10</td>\n",
       "      <td>2</td>\n",
       "      <td>1</td>\n",
       "      <td>2</td>\n",
       "      <td>NaN</td>\n",
       "    </tr>\n",
       "    <tr>\n",
       "      <th>1</th>\n",
       "      <td>4</td>\n",
       "      <td>2</td>\n",
       "      <td>8118</td>\n",
       "      <td>1</td>\n",
       "      <td>36</td>\n",
       "      <td>2890</td>\n",
       "      <td>2</td>\n",
       "      <td>35</td>\n",
       "      <td>4777</td>\n",
       "      <td>3</td>\n",
       "      <td>...</td>\n",
       "      <td>2</td>\n",
       "      <td>1</td>\n",
       "      <td>2</td>\n",
       "      <td>7</td>\n",
       "      <td>0</td>\n",
       "      <td>70</td>\n",
       "      <td>2</td>\n",
       "      <td>1</td>\n",
       "      <td>4</td>\n",
       "      <td>NaN</td>\n",
       "    </tr>\n",
       "    <tr>\n",
       "      <th>2</th>\n",
       "      <td>3</td>\n",
       "      <td>7</td>\n",
       "      <td>5784</td>\n",
       "      <td>1</td>\n",
       "      <td>33</td>\n",
       "      <td>4373</td>\n",
       "      <td>4</td>\n",
       "      <td>41</td>\n",
       "      <td>3242</td>\n",
       "      <td>1</td>\n",
       "      <td>...</td>\n",
       "      <td>2</td>\n",
       "      <td>1</td>\n",
       "      <td>1</td>\n",
       "      <td>4</td>\n",
       "      <td>3</td>\n",
       "      <td>60</td>\n",
       "      <td>1</td>\n",
       "      <td>1</td>\n",
       "      <td>3</td>\n",
       "      <td>NaN</td>\n",
       "    </tr>\n",
       "    <tr>\n",
       "      <th>3</th>\n",
       "      <td>2</td>\n",
       "      <td>23</td>\n",
       "      <td>5081</td>\n",
       "      <td>3</td>\n",
       "      <td>11</td>\n",
       "      <td>6837</td>\n",
       "      <td>2</td>\n",
       "      <td>37</td>\n",
       "      <td>5521</td>\n",
       "      <td>1</td>\n",
       "      <td>...</td>\n",
       "      <td>2</td>\n",
       "      <td>1</td>\n",
       "      <td>2</td>\n",
       "      <td>4</td>\n",
       "      <td>5</td>\n",
       "      <td>70</td>\n",
       "      <td>2</td>\n",
       "      <td>1</td>\n",
       "      <td>5</td>\n",
       "      <td>biology</td>\n",
       "    </tr>\n",
       "    <tr>\n",
       "      <th>4</th>\n",
       "      <td>2</td>\n",
       "      <td>36</td>\n",
       "      <td>3215</td>\n",
       "      <td>2</td>\n",
       "      <td>13</td>\n",
       "      <td>7731</td>\n",
       "      <td>3</td>\n",
       "      <td>5</td>\n",
       "      <td>4156</td>\n",
       "      <td>4</td>\n",
       "      <td>...</td>\n",
       "      <td>2</td>\n",
       "      <td>2</td>\n",
       "      <td>3</td>\n",
       "      <td>10</td>\n",
       "      <td>1</td>\n",
       "      <td>10</td>\n",
       "      <td>2</td>\n",
       "      <td>1</td>\n",
       "      <td>4</td>\n",
       "      <td>Psychology</td>\n",
       "    </tr>\n",
       "    <tr>\n",
       "      <th>...</th>\n",
       "      <td>...</td>\n",
       "      <td>...</td>\n",
       "      <td>...</td>\n",
       "      <td>...</td>\n",
       "      <td>...</td>\n",
       "      <td>...</td>\n",
       "      <td>...</td>\n",
       "      <td>...</td>\n",
       "      <td>...</td>\n",
       "      <td>...</td>\n",
       "      <td>...</td>\n",
       "      <td>...</td>\n",
       "      <td>...</td>\n",
       "      <td>...</td>\n",
       "      <td>...</td>\n",
       "      <td>...</td>\n",
       "      <td>...</td>\n",
       "      <td>...</td>\n",
       "      <td>...</td>\n",
       "      <td>...</td>\n",
       "      <td>...</td>\n",
       "    </tr>\n",
       "    <tr>\n",
       "      <th>39770</th>\n",
       "      <td>2</td>\n",
       "      <td>31</td>\n",
       "      <td>3287</td>\n",
       "      <td>1</td>\n",
       "      <td>5</td>\n",
       "      <td>2216</td>\n",
       "      <td>3</td>\n",
       "      <td>29</td>\n",
       "      <td>3895</td>\n",
       "      <td>2</td>\n",
       "      <td>...</td>\n",
       "      <td>2</td>\n",
       "      <td>1</td>\n",
       "      <td>1</td>\n",
       "      <td>2</td>\n",
       "      <td>4</td>\n",
       "      <td>60</td>\n",
       "      <td>2</td>\n",
       "      <td>1</td>\n",
       "      <td>2</td>\n",
       "      <td>NaN</td>\n",
       "    </tr>\n",
       "    <tr>\n",
       "      <th>39771</th>\n",
       "      <td>3</td>\n",
       "      <td>14</td>\n",
       "      <td>4792</td>\n",
       "      <td>4</td>\n",
       "      <td>41</td>\n",
       "      <td>2604</td>\n",
       "      <td>3</td>\n",
       "      <td>15</td>\n",
       "      <td>2668</td>\n",
       "      <td>4</td>\n",
       "      <td>...</td>\n",
       "      <td>1</td>\n",
       "      <td>1</td>\n",
       "      <td>1</td>\n",
       "      <td>10</td>\n",
       "      <td>0</td>\n",
       "      <td>10</td>\n",
       "      <td>2</td>\n",
       "      <td>1</td>\n",
       "      <td>4</td>\n",
       "      <td>Mathematic</td>\n",
       "    </tr>\n",
       "    <tr>\n",
       "      <th>39772</th>\n",
       "      <td>2</td>\n",
       "      <td>1</td>\n",
       "      <td>25147</td>\n",
       "      <td>1</td>\n",
       "      <td>4</td>\n",
       "      <td>4555</td>\n",
       "      <td>2</td>\n",
       "      <td>14</td>\n",
       "      <td>3388</td>\n",
       "      <td>1</td>\n",
       "      <td>...</td>\n",
       "      <td>2</td>\n",
       "      <td>1</td>\n",
       "      <td>1</td>\n",
       "      <td>7</td>\n",
       "      <td>1</td>\n",
       "      <td>30</td>\n",
       "      <td>1</td>\n",
       "      <td>2</td>\n",
       "      <td>3</td>\n",
       "      <td>Computer Science</td>\n",
       "    </tr>\n",
       "    <tr>\n",
       "      <th>39773</th>\n",
       "      <td>3</td>\n",
       "      <td>36</td>\n",
       "      <td>4286</td>\n",
       "      <td>1</td>\n",
       "      <td>34</td>\n",
       "      <td>2736</td>\n",
       "      <td>2</td>\n",
       "      <td>10</td>\n",
       "      <td>5968</td>\n",
       "      <td>2</td>\n",
       "      <td>...</td>\n",
       "      <td>2</td>\n",
       "      <td>1</td>\n",
       "      <td>1</td>\n",
       "      <td>6</td>\n",
       "      <td>1</td>\n",
       "      <td>60</td>\n",
       "      <td>1</td>\n",
       "      <td>1</td>\n",
       "      <td>2</td>\n",
       "      <td>History</td>\n",
       "    </tr>\n",
       "    <tr>\n",
       "      <th>39774</th>\n",
       "      <td>2</td>\n",
       "      <td>28</td>\n",
       "      <td>32251</td>\n",
       "      <td>1</td>\n",
       "      <td>22</td>\n",
       "      <td>3317</td>\n",
       "      <td>2</td>\n",
       "      <td>4</td>\n",
       "      <td>11734</td>\n",
       "      <td>1</td>\n",
       "      <td>...</td>\n",
       "      <td>1</td>\n",
       "      <td>1</td>\n",
       "      <td>1</td>\n",
       "      <td>10</td>\n",
       "      <td>1</td>\n",
       "      <td>10</td>\n",
       "      <td>1</td>\n",
       "      <td>1</td>\n",
       "      <td>4</td>\n",
       "      <td>Cognitive Science</td>\n",
       "    </tr>\n",
       "  </tbody>\n",
       "</table>\n",
       "<p>39775 rows × 172 columns</p>\n",
       "</div>"
      ],
      "text/plain": [
       "       Q1A  Q1I    Q1E  Q2A  Q2I   Q2E  Q3A  Q3I    Q3E  Q4A  ...  screensize  \\\n",
       "0        4   28   3890    4   25  2122    2   16   1944    4  ...           1   \n",
       "1        4    2   8118    1   36  2890    2   35   4777    3  ...           2   \n",
       "2        3    7   5784    1   33  4373    4   41   3242    1  ...           2   \n",
       "3        2   23   5081    3   11  6837    2   37   5521    1  ...           2   \n",
       "4        2   36   3215    2   13  7731    3    5   4156    4  ...           2   \n",
       "...    ...  ...    ...  ...  ...   ...  ...  ...    ...  ...  ...         ...   \n",
       "39770    2   31   3287    1    5  2216    3   29   3895    2  ...           2   \n",
       "39771    3   14   4792    4   41  2604    3   15   2668    4  ...           1   \n",
       "39772    2    1  25147    1    4  4555    2   14   3388    1  ...           2   \n",
       "39773    3   36   4286    1   34  2736    2   10   5968    2  ...           2   \n",
       "39774    2   28  32251    1   22  3317    2    4  11734    1  ...           1   \n",
       "\n",
       "       uniquenetworklocation  hand  religion  orientation  race  voted  \\\n",
       "0                          1     1        12            1    10      2   \n",
       "1                          1     2         7            0    70      2   \n",
       "2                          1     1         4            3    60      1   \n",
       "3                          1     2         4            5    70      2   \n",
       "4                          2     3        10            1    10      2   \n",
       "...                      ...   ...       ...          ...   ...    ...   \n",
       "39770                      1     1         2            4    60      2   \n",
       "39771                      1     1        10            0    10      2   \n",
       "39772                      1     1         7            1    30      1   \n",
       "39773                      1     1         6            1    60      1   \n",
       "39774                      1     1        10            1    10      1   \n",
       "\n",
       "       married  familysize              major  \n",
       "0            1           2                NaN  \n",
       "1            1           4                NaN  \n",
       "2            1           3                NaN  \n",
       "3            1           5            biology  \n",
       "4            1           4         Psychology  \n",
       "...        ...         ...                ...  \n",
       "39770        1           2                NaN  \n",
       "39771        1           4         Mathematic  \n",
       "39772        2           3   Computer Science  \n",
       "39773        1           2            History  \n",
       "39774        1           4  Cognitive Science  \n",
       "\n",
       "[39775 rows x 172 columns]"
      ]
     },
     "execution_count": 59,
     "metadata": {},
     "output_type": "execute_result"
    }
   ],
   "source": [
    "qst = pd.read_excel(\"QuestionsDataset.xlsx\")\n",
    "qst"
   ]
  },
  {
   "cell_type": "code",
   "execution_count": 60,
   "id": "6c6621ef",
   "metadata": {
    "scrolled": true
   },
   "outputs": [
    {
     "data": {
      "text/plain": [
       "Index(['Q1A', 'Q1I', 'Q1E', 'Q2A', 'Q2I', 'Q2E', 'Q3A', 'Q3I', 'Q3E', 'Q4A',\n",
       "       ...\n",
       "       'screensize', 'uniquenetworklocation', 'hand', 'religion',\n",
       "       'orientation', 'race', 'voted', 'married', 'familysize', 'major'],\n",
       "      dtype='object', length=172)"
      ]
     },
     "execution_count": 60,
     "metadata": {},
     "output_type": "execute_result"
    }
   ],
   "source": [
    "# Visualizamos el nombre de las variables\n",
    "qst.columns"
   ]
  },
  {
   "cell_type": "markdown",
   "id": "c1199502",
   "metadata": {},
   "source": [
    "Países en la base de datos a investigar"
   ]
  },
  {
   "cell_type": "code",
   "execution_count": 61,
   "id": "910e2483",
   "metadata": {},
   "outputs": [
    {
     "data": {
      "text/plain": [
       "(145,\n",
       " array(['IN', 'US', 'PL', 'MY', 'MX', 'GB', 'DE', 'EE', 'CA', 'EC', 'AU',\n",
       "        'FI', 'ID', 'AE', 'NONE', 'ES', 'NI', 'DO', 'TR', 'NO', 'GR', 'LK',\n",
       "        'BR', 'AR', 'KH', 'IT', 'MK', 'PT', 'BA', 'RU', 'HU', 'KR', 'IE',\n",
       "        'RS', 'CZ', 'PH', 'RO', 'FR', 'SG', 'AT', 'UA', 'KW', 'CO', 'GE',\n",
       "        'SE', 'HK', 'NZ', 'ZA', 'NL', 'DK', 'JM', 'LB', 'CL', 'AW', 'IL',\n",
       "        'GT', 'PE', 'PK', 'NP', 'HR', 'CR', 'VE', 'BG', 'GH', 'MA', 'PR',\n",
       "        'SI', 'LV', 'AL', 'VN', 'GU', 'BD', 'TH', 'NG', 'FO', 'UY', 'EG',\n",
       "        'BE', 'SA', 'SV', 'CH', 'PY', 'SK', 'SY', 'TN', 'TT', 'SR', 'KE',\n",
       "        'BY', 'PA', 'CY', 'BW', 'MZ', 'BB', 'GG', 'CW', 'IS', 'IR', 'BN',\n",
       "        'MV', 'OM', 'DZ', 'JP', 'MU', nan, 'IQ', 'BO', 'MD', 'CN', 'LT',\n",
       "        'BZ', 'BH', 'ME', 'QA', 'TW', 'PS', 'JO', 'SD', 'KY', 'AZ', 'AO',\n",
       "        'BS', 'GY', 'MO', 'TZ', 'IM', 'AF', 'AM', 'UZ', 'LU', 'ET', 'JE',\n",
       "        'VU', 'TJ', 'KZ', 'XK', 'HN', 'ZW', 'LA', 'MT', 'SN', 'MN', 'TG',\n",
       "        'SC', 'RE', 'VC'], dtype=object))"
      ]
     },
     "execution_count": 61,
     "metadata": {},
     "output_type": "execute_result"
    }
   ],
   "source": [
    "# Contar número de países únicos en la columna 'country'\n",
    "num_paises = qst['country'].nunique()\n",
    "lista_paises = qst['country'].unique()\n",
    "\n",
    "num_paises, lista_paises"
   ]
  },
  {
   "cell_type": "code",
   "execution_count": 62,
   "id": "436fc0e4",
   "metadata": {},
   "outputs": [
    {
     "data": {
      "text/plain": [
       "MY    21605\n",
       "US     8207\n",
       "GB     1180\n",
       "CA      978\n",
       "ID      884\n",
       "      ...  \n",
       "UZ        1\n",
       "AM        1\n",
       "AF        1\n",
       "IM        1\n",
       "VC        1\n",
       "Name: country, Length: 145, dtype: int64"
      ]
     },
     "execution_count": 62,
     "metadata": {},
     "output_type": "execute_result"
    }
   ],
   "source": [
    "qst['country'].value_counts()    # Te da el número de entradas"
   ]
  },
  {
   "cell_type": "code",
   "execution_count": 63,
   "id": "1d5200bb",
   "metadata": {},
   "outputs": [],
   "source": [
    "paises = ['MY', 'US', 'GB', 'CA', 'ID']\n",
    "filt = qst[qst['country'].isin(paises)]"
   ]
  },
  {
   "cell_type": "code",
   "execution_count": 64,
   "id": "5aaa59f9",
   "metadata": {},
   "outputs": [
    {
     "name": "stderr",
     "output_type": "stream",
     "text": [
      "C:\\Users\\Laura\\AppData\\Local\\Temp\\ipykernel_26024\\3054354166.py:2: SettingWithCopyWarning: \n",
      "A value is trying to be set on a copy of a slice from a DataFrame.\n",
      "Try using .loc[row_indexer,col_indexer] = value instead\n",
      "\n",
      "See the caveats in the documentation: https://pandas.pydata.org/pandas-docs/stable/user_guide/indexing.html#returning-a-view-versus-a-copy\n",
      "  filt['Depressive Total Score'] = filt[items].sum(axis=1)\n"
     ]
    }
   ],
   "source": [
    "items = ['Q3A', 'Q5A', 'Q10A', 'Q13A', 'Q16A', 'Q17A', 'Q21A', 'Q24A', 'Q26A', 'Q31A', 'Q34A', 'Q37A', 'Q38A', 'Q42A']\n",
    "filt['Depressive Total Score'] = filt[items].sum(axis=1)"
   ]
  },
  {
   "cell_type": "code",
   "execution_count": 65,
   "id": "2067932b",
   "metadata": {},
   "outputs": [
    {
     "data": {
      "text/plain": [
       "country\n",
       "CA    36.595092\n",
       "GB    36.950000\n",
       "ID    34.919683\n",
       "MY    34.120389\n",
       "US    36.060436\n",
       "Name: Depressive Total Score, dtype: float64"
      ]
     },
     "execution_count": 65,
     "metadata": {},
     "output_type": "execute_result"
    }
   ],
   "source": [
    "# Media de puntuación de depresión por país\n",
    "media_dep = filt.groupby('country')['Depressive Total Score'].mean()\n",
    "media_dep"
   ]
  },
  {
   "cell_type": "markdown",
   "id": "7cdf7887",
   "metadata": {},
   "source": [
    "**GRÁFICOS INTERESANTES**"
   ]
  },
  {
   "cell_type": "code",
   "execution_count": 66,
   "id": "d8267ff0",
   "metadata": {},
   "outputs": [
    {
     "data": {
      "image/png": "[encoded data removed]",
      "text/plain": [
       "<Figure size 432x288 with 1 Axes>"
      ]
     },
     "metadata": {
      "needs_background": "light"
     },
     "output_type": "display_data"
    }
   ],
   "source": [
    "top_paises = qst['country'].value_counts().nlargest(5)\n",
    "sns.barplot(x=top_paises.index, y=top_paises.values)\n",
    "plt.title(\"Top 5 países con más participantes\")\n",
    "plt.xlabel(\"País\")\n",
    "plt.ylabel(\"Frecuencia\")\n",
    "plt.xticks(rotation=45)\n",
    "plt.show()"
   ]
  },
  {
   "cell_type": "markdown",
   "id": "b025ffdd",
   "metadata": {},
   "source": [
    "1.3. Añadimos columnas adicionales"
   ]
  },
  {
   "cell_type": "code",
   "execution_count": 67,
   "id": "78a4712b",
   "metadata": {},
   "outputs": [],
   "source": [
    "# Definimos las columnas correspondientes a la subescala de depresión según DASS-42\n",
    "items = [\n",
    "    'Q3A', 'Q5A', 'Q10A', 'Q13A', 'Q16A', 'Q17A', 'Q21A',\n",
    "    'Q24A', 'Q26A', 'Q31A', 'Q34A', 'Q37A', 'Q38A', 'Q42A'\n",
    "]\n",
    "\n",
    "# Creamos la columna con la suma de los ítems depresivos\n",
    "qst['Depressive Total Score'] = qst[items].sum(axis=1)"
   ]
  },
  {
   "cell_type": "code",
   "execution_count": 68,
   "id": "3e4d2e75",
   "metadata": {},
   "outputs": [
    {
     "data": {
      "text/html": [
       "<div>\n",
       "<style scoped>\n",
       "    .dataframe tbody tr th:only-of-type {\n",
       "        vertical-align: middle;\n",
       "    }\n",
       "\n",
       "    .dataframe tbody tr th {\n",
       "        vertical-align: top;\n",
       "    }\n",
       "\n",
       "    .dataframe thead th {\n",
       "        text-align: right;\n",
       "    }\n",
       "</style>\n",
       "<table border=\"1\" class=\"dataframe\">\n",
       "  <thead>\n",
       "    <tr style=\"text-align: right;\">\n",
       "      <th></th>\n",
       "      <th>Q1A</th>\n",
       "      <th>Q1I</th>\n",
       "      <th>Q1E</th>\n",
       "      <th>Q2A</th>\n",
       "      <th>Q2I</th>\n",
       "      <th>Q2E</th>\n",
       "      <th>Q3A</th>\n",
       "      <th>Q3I</th>\n",
       "      <th>Q3E</th>\n",
       "      <th>Q4A</th>\n",
       "      <th>...</th>\n",
       "      <th>hand</th>\n",
       "      <th>religion</th>\n",
       "      <th>orientation</th>\n",
       "      <th>race</th>\n",
       "      <th>voted</th>\n",
       "      <th>married</th>\n",
       "      <th>familysize</th>\n",
       "      <th>major</th>\n",
       "      <th>Depressive Total Score</th>\n",
       "      <th>Depressive Diagnosis</th>\n",
       "    </tr>\n",
       "  </thead>\n",
       "  <tbody>\n",
       "    <tr>\n",
       "      <th>0</th>\n",
       "      <td>4</td>\n",
       "      <td>28</td>\n",
       "      <td>3890</td>\n",
       "      <td>4</td>\n",
       "      <td>25</td>\n",
       "      <td>2122</td>\n",
       "      <td>2</td>\n",
       "      <td>16</td>\n",
       "      <td>1944</td>\n",
       "      <td>4</td>\n",
       "      <td>...</td>\n",
       "      <td>1</td>\n",
       "      <td>12</td>\n",
       "      <td>1</td>\n",
       "      <td>10</td>\n",
       "      <td>2</td>\n",
       "      <td>1</td>\n",
       "      <td>2</td>\n",
       "      <td>NaN</td>\n",
       "      <td>41</td>\n",
       "      <td>YES</td>\n",
       "    </tr>\n",
       "    <tr>\n",
       "      <th>1</th>\n",
       "      <td>4</td>\n",
       "      <td>2</td>\n",
       "      <td>8118</td>\n",
       "      <td>1</td>\n",
       "      <td>36</td>\n",
       "      <td>2890</td>\n",
       "      <td>2</td>\n",
       "      <td>35</td>\n",
       "      <td>4777</td>\n",
       "      <td>3</td>\n",
       "      <td>...</td>\n",
       "      <td>2</td>\n",
       "      <td>7</td>\n",
       "      <td>0</td>\n",
       "      <td>70</td>\n",
       "      <td>2</td>\n",
       "      <td>1</td>\n",
       "      <td>4</td>\n",
       "      <td>NaN</td>\n",
       "      <td>38</td>\n",
       "      <td>YES</td>\n",
       "    </tr>\n",
       "    <tr>\n",
       "      <th>2</th>\n",
       "      <td>3</td>\n",
       "      <td>7</td>\n",
       "      <td>5784</td>\n",
       "      <td>1</td>\n",
       "      <td>33</td>\n",
       "      <td>4373</td>\n",
       "      <td>4</td>\n",
       "      <td>41</td>\n",
       "      <td>3242</td>\n",
       "      <td>1</td>\n",
       "      <td>...</td>\n",
       "      <td>1</td>\n",
       "      <td>4</td>\n",
       "      <td>3</td>\n",
       "      <td>60</td>\n",
       "      <td>1</td>\n",
       "      <td>1</td>\n",
       "      <td>3</td>\n",
       "      <td>NaN</td>\n",
       "      <td>53</td>\n",
       "      <td>YES</td>\n",
       "    </tr>\n",
       "    <tr>\n",
       "      <th>3</th>\n",
       "      <td>2</td>\n",
       "      <td>23</td>\n",
       "      <td>5081</td>\n",
       "      <td>3</td>\n",
       "      <td>11</td>\n",
       "      <td>6837</td>\n",
       "      <td>2</td>\n",
       "      <td>37</td>\n",
       "      <td>5521</td>\n",
       "      <td>1</td>\n",
       "      <td>...</td>\n",
       "      <td>2</td>\n",
       "      <td>4</td>\n",
       "      <td>5</td>\n",
       "      <td>70</td>\n",
       "      <td>2</td>\n",
       "      <td>1</td>\n",
       "      <td>5</td>\n",
       "      <td>biology</td>\n",
       "      <td>30</td>\n",
       "      <td>YES</td>\n",
       "    </tr>\n",
       "    <tr>\n",
       "      <th>4</th>\n",
       "      <td>2</td>\n",
       "      <td>36</td>\n",
       "      <td>3215</td>\n",
       "      <td>2</td>\n",
       "      <td>13</td>\n",
       "      <td>7731</td>\n",
       "      <td>3</td>\n",
       "      <td>5</td>\n",
       "      <td>4156</td>\n",
       "      <td>4</td>\n",
       "      <td>...</td>\n",
       "      <td>3</td>\n",
       "      <td>10</td>\n",
       "      <td>1</td>\n",
       "      <td>10</td>\n",
       "      <td>2</td>\n",
       "      <td>1</td>\n",
       "      <td>4</td>\n",
       "      <td>Psychology</td>\n",
       "      <td>46</td>\n",
       "      <td>YES</td>\n",
       "    </tr>\n",
       "    <tr>\n",
       "      <th>...</th>\n",
       "      <td>...</td>\n",
       "      <td>...</td>\n",
       "      <td>...</td>\n",
       "      <td>...</td>\n",
       "      <td>...</td>\n",
       "      <td>...</td>\n",
       "      <td>...</td>\n",
       "      <td>...</td>\n",
       "      <td>...</td>\n",
       "      <td>...</td>\n",
       "      <td>...</td>\n",
       "      <td>...</td>\n",
       "      <td>...</td>\n",
       "      <td>...</td>\n",
       "      <td>...</td>\n",
       "      <td>...</td>\n",
       "      <td>...</td>\n",
       "      <td>...</td>\n",
       "      <td>...</td>\n",
       "      <td>...</td>\n",
       "      <td>...</td>\n",
       "    </tr>\n",
       "    <tr>\n",
       "      <th>39770</th>\n",
       "      <td>2</td>\n",
       "      <td>31</td>\n",
       "      <td>3287</td>\n",
       "      <td>1</td>\n",
       "      <td>5</td>\n",
       "      <td>2216</td>\n",
       "      <td>3</td>\n",
       "      <td>29</td>\n",
       "      <td>3895</td>\n",
       "      <td>2</td>\n",
       "      <td>...</td>\n",
       "      <td>1</td>\n",
       "      <td>2</td>\n",
       "      <td>4</td>\n",
       "      <td>60</td>\n",
       "      <td>2</td>\n",
       "      <td>1</td>\n",
       "      <td>2</td>\n",
       "      <td>NaN</td>\n",
       "      <td>50</td>\n",
       "      <td>YES</td>\n",
       "    </tr>\n",
       "    <tr>\n",
       "      <th>39771</th>\n",
       "      <td>3</td>\n",
       "      <td>14</td>\n",
       "      <td>4792</td>\n",
       "      <td>4</td>\n",
       "      <td>41</td>\n",
       "      <td>2604</td>\n",
       "      <td>3</td>\n",
       "      <td>15</td>\n",
       "      <td>2668</td>\n",
       "      <td>4</td>\n",
       "      <td>...</td>\n",
       "      <td>1</td>\n",
       "      <td>10</td>\n",
       "      <td>0</td>\n",
       "      <td>10</td>\n",
       "      <td>2</td>\n",
       "      <td>1</td>\n",
       "      <td>4</td>\n",
       "      <td>Mathematic</td>\n",
       "      <td>52</td>\n",
       "      <td>YES</td>\n",
       "    </tr>\n",
       "    <tr>\n",
       "      <th>39772</th>\n",
       "      <td>2</td>\n",
       "      <td>1</td>\n",
       "      <td>25147</td>\n",
       "      <td>1</td>\n",
       "      <td>4</td>\n",
       "      <td>4555</td>\n",
       "      <td>2</td>\n",
       "      <td>14</td>\n",
       "      <td>3388</td>\n",
       "      <td>1</td>\n",
       "      <td>...</td>\n",
       "      <td>1</td>\n",
       "      <td>7</td>\n",
       "      <td>1</td>\n",
       "      <td>30</td>\n",
       "      <td>1</td>\n",
       "      <td>2</td>\n",
       "      <td>3</td>\n",
       "      <td>Computer Science</td>\n",
       "      <td>18</td>\n",
       "      <td>NO</td>\n",
       "    </tr>\n",
       "    <tr>\n",
       "      <th>39773</th>\n",
       "      <td>3</td>\n",
       "      <td>36</td>\n",
       "      <td>4286</td>\n",
       "      <td>1</td>\n",
       "      <td>34</td>\n",
       "      <td>2736</td>\n",
       "      <td>2</td>\n",
       "      <td>10</td>\n",
       "      <td>5968</td>\n",
       "      <td>2</td>\n",
       "      <td>...</td>\n",
       "      <td>1</td>\n",
       "      <td>6</td>\n",
       "      <td>1</td>\n",
       "      <td>60</td>\n",
       "      <td>1</td>\n",
       "      <td>1</td>\n",
       "      <td>2</td>\n",
       "      <td>History</td>\n",
       "      <td>30</td>\n",
       "      <td>YES</td>\n",
       "    </tr>\n",
       "    <tr>\n",
       "      <th>39774</th>\n",
       "      <td>2</td>\n",
       "      <td>28</td>\n",
       "      <td>32251</td>\n",
       "      <td>1</td>\n",
       "      <td>22</td>\n",
       "      <td>3317</td>\n",
       "      <td>2</td>\n",
       "      <td>4</td>\n",
       "      <td>11734</td>\n",
       "      <td>1</td>\n",
       "      <td>...</td>\n",
       "      <td>1</td>\n",
       "      <td>10</td>\n",
       "      <td>1</td>\n",
       "      <td>10</td>\n",
       "      <td>1</td>\n",
       "      <td>1</td>\n",
       "      <td>4</td>\n",
       "      <td>Cognitive Science</td>\n",
       "      <td>41</td>\n",
       "      <td>YES</td>\n",
       "    </tr>\n",
       "  </tbody>\n",
       "</table>\n",
       "<p>39775 rows × 174 columns</p>\n",
       "</div>"
      ],
      "text/plain": [
       "       Q1A  Q1I    Q1E  Q2A  Q2I   Q2E  Q3A  Q3I    Q3E  Q4A  ...  hand  \\\n",
       "0        4   28   3890    4   25  2122    2   16   1944    4  ...     1   \n",
       "1        4    2   8118    1   36  2890    2   35   4777    3  ...     2   \n",
       "2        3    7   5784    1   33  4373    4   41   3242    1  ...     1   \n",
       "3        2   23   5081    3   11  6837    2   37   5521    1  ...     2   \n",
       "4        2   36   3215    2   13  7731    3    5   4156    4  ...     3   \n",
       "...    ...  ...    ...  ...  ...   ...  ...  ...    ...  ...  ...   ...   \n",
       "39770    2   31   3287    1    5  2216    3   29   3895    2  ...     1   \n",
       "39771    3   14   4792    4   41  2604    3   15   2668    4  ...     1   \n",
       "39772    2    1  25147    1    4  4555    2   14   3388    1  ...     1   \n",
       "39773    3   36   4286    1   34  2736    2   10   5968    2  ...     1   \n",
       "39774    2   28  32251    1   22  3317    2    4  11734    1  ...     1   \n",
       "\n",
       "       religion  orientation  race  voted  married  familysize  \\\n",
       "0            12            1    10      2        1           2   \n",
       "1             7            0    70      2        1           4   \n",
       "2             4            3    60      1        1           3   \n",
       "3             4            5    70      2        1           5   \n",
       "4            10            1    10      2        1           4   \n",
       "...         ...          ...   ...    ...      ...         ...   \n",
       "39770         2            4    60      2        1           2   \n",
       "39771        10            0    10      2        1           4   \n",
       "39772         7            1    30      1        2           3   \n",
       "39773         6            1    60      1        1           2   \n",
       "39774        10            1    10      1        1           4   \n",
       "\n",
       "                   major  Depressive Total Score  Depressive Diagnosis  \n",
       "0                    NaN                      41                   YES  \n",
       "1                    NaN                      38                   YES  \n",
       "2                    NaN                      53                   YES  \n",
       "3                biology                      30                   YES  \n",
       "4             Psychology                      46                   YES  \n",
       "...                  ...                     ...                   ...  \n",
       "39770                NaN                      50                   YES  \n",
       "39771         Mathematic                      52                   YES  \n",
       "39772   Computer Science                      18                    NO  \n",
       "39773            History                      30                   YES  \n",
       "39774  Cognitive Science                      41                   YES  \n",
       "\n",
       "[39775 rows x 174 columns]"
      ]
     },
     "execution_count": 68,
     "metadata": {},
     "output_type": "execute_result"
    }
   ],
   "source": [
    "# Segunda variable que muestra si esa persona tiene depresión o no\n",
    "depressive_diagnosis = []\n",
    "\n",
    "num = 20\n",
    "\n",
    "for score in qst['Depressive Total Score']:\n",
    "    if score > num:\n",
    "        depressive_diagnosis.append('YES')\n",
    "    else:\n",
    "        depressive_diagnosis.append('NO')\n",
    "        \n",
    "qst['Depressive Diagnosis'] = depressive_diagnosis\n",
    "qst"
   ]
  },
  {
   "cell_type": "markdown",
   "id": "869d02bd",
   "metadata": {},
   "source": [
    "1.4. Comprobamos si hay valores faltantes "
   ]
  },
  {
   "cell_type": "code",
   "execution_count": 69,
   "id": "3d79dd7d",
   "metadata": {},
   "outputs": [
    {
     "name": "stdout",
     "output_type": "stream",
     "text": [
      "major      11403\n",
      "country        2\n",
      "dtype: int64\n"
     ]
    }
   ],
   "source": [
    "# Revisamos valores nulos\n",
    "# Ver cuántos NaNs tiene cada columna\n",
    "na_counts = qst.isnull().sum()\n",
    "\n",
    "# Filtrar solo las columnas con al menos un NaN\n",
    "na_columns = na_counts[na_counts > 0]\n",
    "\n",
    "# Mostrar ordenadas de mayor a menor\n",
    "print(na_columns.sort_values(ascending=False))"
   ]
  },
  {
   "cell_type": "markdown",
   "id": "4a25491b",
   "metadata": {},
   "source": [
    "Hay valores nulos en la columna 'major' y la columna 'country', pero eso indica que el sujeto no tiene carrera por lo que es relevante. Pero si se va a reemplazar a vacío las respuestas no relevantes o que no se entiendan. Y se va a eliminar las dos filas de country."
   ]
  },
  {
   "cell_type": "code",
   "execution_count": 70,
   "id": "69c82b04",
   "metadata": {},
   "outputs": [
    {
     "name": "stderr",
     "output_type": "stream",
     "text": [
      "C:\\Users\\Laura\\AppData\\Local\\Temp\\ipykernel_26024\\1229227290.py:12: SettingWithCopyWarning: \n",
      "A value is trying to be set on a copy of a slice from a DataFrame.\n",
      "Try using .loc[row_indexer,col_indexer] = value instead\n",
      "\n",
      "See the caveats in the documentation: https://pandas.pydata.org/pandas-docs/stable/user_guide/indexing.html#returning-a-view-versus-a-copy\n",
      "  qst['major'] = qst['major'].fillna(\"0\")\n"
     ]
    }
   ],
   "source": [
    "# Lista de valores a reemplazar por vacío en la columna 'major'\n",
    "column_major = [\n",
    "    '--', '-', '---', '.', '???', '/', '_', 'AA', 'Acc', '18', '19', '75', '12th arts',\n",
    "    '&#304;lahiyat', '&#1055;&#1089;&#1080;&#1093;&#1086;&#1083;&#1', '&#1593;&#1604;&#1605; &#1606;&#1601;&#1587;',\n",
    "    '&#28888;&#22521;', '&#22810;&#23186;&#39636;&#35373;&#35336;'\n",
    "]\n",
    "\n",
    "# Eliminar filas con NaN en 'country'\n",
    "qst = qst.dropna(subset=['country'])\n",
    "\n",
    "# Rellenar NaN en 'major' con string \"0\"\n",
    "qst['major'] = qst['major'].fillna(\"0\")"
   ]
  },
  {
   "cell_type": "code",
   "execution_count": 71,
   "id": "5e486751",
   "metadata": {},
   "outputs": [
    {
     "name": "stdout",
     "output_type": "stream",
     "text": [
      "Número de nulos en la columna major: 0\n",
      "Número de nulos en la columna country: 0\n"
     ]
    }
   ],
   "source": [
    "# Comprobamos que ha aumentado el número de nulos en la columna major\n",
    "is_null_major = qst['major'].isnull().sum()\n",
    "print('Número de nulos en la columna major:', is_null_major)\n",
    "\n",
    "# Comprobamos que ha aumentado el número de nulos en la columna country\n",
    "is_null_country = qst['country'].isnull().sum()\n",
    "print('Número de nulos en la columna country:', is_null_country)"
   ]
  },
  {
   "cell_type": "markdown",
   "id": "f840a075",
   "metadata": {},
   "source": [
    "1.5. Comprobamos valores infinitos"
   ]
  },
  {
   "cell_type": "code",
   "execution_count": 72,
   "id": "9a76ea43",
   "metadata": {},
   "outputs": [
    {
     "data": {
      "text/plain": [
       "0"
      ]
     },
     "execution_count": 72,
     "metadata": {},
     "output_type": "execute_result"
    }
   ],
   "source": [
    "# Verificar si hay valores infinitos en el DataFrame\n",
    "infinite_values = qst.isin([np.inf, -np.inf]).sum().sum()\n",
    "infinite_values"
   ]
  },
  {
   "cell_type": "markdown",
   "id": "d30e8181",
   "metadata": {},
   "source": [
    "No haría falta eliminar valores infinitos ya que no muestra presencia de ninguno"
   ]
  },
  {
   "cell_type": "markdown",
   "id": "53f425e3",
   "metadata": {},
   "source": [
    "1.6 Eliminar variables irrelevantes"
   ]
  },
  {
   "cell_type": "code",
   "execution_count": 73,
   "id": "bf64fd10",
   "metadata": {
    "scrolled": false
   },
   "outputs": [
    {
     "name": "stderr",
     "output_type": "stream",
     "text": [
      "C:\\Users\\Laura\\AppData\\Local\\Temp\\ipykernel_26024\\1081971142.py:17: SettingWithCopyWarning: \n",
      "A value is trying to be set on a copy of a slice from a DataFrame\n",
      "\n",
      "See the caveats in the documentation: https://pandas.pydata.org/pandas-docs/stable/user_guide/indexing.html#returning-a-view-versus-a-copy\n",
      "  qst.drop(columns=ir, inplace=True)\n"
     ]
    },
    {
     "data": {
      "text/html": [
       "<div>\n",
       "<style scoped>\n",
       "    .dataframe tbody tr th:only-of-type {\n",
       "        vertical-align: middle;\n",
       "    }\n",
       "\n",
       "    .dataframe tbody tr th {\n",
       "        vertical-align: top;\n",
       "    }\n",
       "\n",
       "    .dataframe thead th {\n",
       "        text-align: right;\n",
       "    }\n",
       "</style>\n",
       "<table border=\"1\" class=\"dataframe\">\n",
       "  <thead>\n",
       "    <tr style=\"text-align: right;\">\n",
       "      <th></th>\n",
       "      <th>Q1A</th>\n",
       "      <th>Q2A</th>\n",
       "      <th>Q3A</th>\n",
       "      <th>Q4A</th>\n",
       "      <th>Q5A</th>\n",
       "      <th>Q6A</th>\n",
       "      <th>Q7A</th>\n",
       "      <th>Q8A</th>\n",
       "      <th>Q9A</th>\n",
       "      <th>Q10A</th>\n",
       "      <th>...</th>\n",
       "      <th>gender</th>\n",
       "      <th>age</th>\n",
       "      <th>religion</th>\n",
       "      <th>orientation</th>\n",
       "      <th>race</th>\n",
       "      <th>married</th>\n",
       "      <th>familysize</th>\n",
       "      <th>major</th>\n",
       "      <th>Depressive Total Score</th>\n",
       "      <th>Depressive Diagnosis</th>\n",
       "    </tr>\n",
       "  </thead>\n",
       "  <tbody>\n",
       "    <tr>\n",
       "      <th>0</th>\n",
       "      <td>4</td>\n",
       "      <td>4</td>\n",
       "      <td>2</td>\n",
       "      <td>4</td>\n",
       "      <td>4</td>\n",
       "      <td>4</td>\n",
       "      <td>4</td>\n",
       "      <td>4</td>\n",
       "      <td>2</td>\n",
       "      <td>1</td>\n",
       "      <td>...</td>\n",
       "      <td>2</td>\n",
       "      <td>16</td>\n",
       "      <td>12</td>\n",
       "      <td>1</td>\n",
       "      <td>10</td>\n",
       "      <td>1</td>\n",
       "      <td>2</td>\n",
       "      <td>0</td>\n",
       "      <td>41</td>\n",
       "      <td>YES</td>\n",
       "    </tr>\n",
       "    <tr>\n",
       "      <th>1</th>\n",
       "      <td>4</td>\n",
       "      <td>1</td>\n",
       "      <td>2</td>\n",
       "      <td>3</td>\n",
       "      <td>4</td>\n",
       "      <td>4</td>\n",
       "      <td>3</td>\n",
       "      <td>4</td>\n",
       "      <td>3</td>\n",
       "      <td>2</td>\n",
       "      <td>...</td>\n",
       "      <td>2</td>\n",
       "      <td>16</td>\n",
       "      <td>7</td>\n",
       "      <td>0</td>\n",
       "      <td>70</td>\n",
       "      <td>1</td>\n",
       "      <td>4</td>\n",
       "      <td>0</td>\n",
       "      <td>38</td>\n",
       "      <td>YES</td>\n",
       "    </tr>\n",
       "    <tr>\n",
       "      <th>2</th>\n",
       "      <td>3</td>\n",
       "      <td>1</td>\n",
       "      <td>4</td>\n",
       "      <td>1</td>\n",
       "      <td>4</td>\n",
       "      <td>3</td>\n",
       "      <td>1</td>\n",
       "      <td>3</td>\n",
       "      <td>2</td>\n",
       "      <td>4</td>\n",
       "      <td>...</td>\n",
       "      <td>2</td>\n",
       "      <td>17</td>\n",
       "      <td>4</td>\n",
       "      <td>3</td>\n",
       "      <td>60</td>\n",
       "      <td>1</td>\n",
       "      <td>3</td>\n",
       "      <td>0</td>\n",
       "      <td>53</td>\n",
       "      <td>YES</td>\n",
       "    </tr>\n",
       "    <tr>\n",
       "      <th>3</th>\n",
       "      <td>2</td>\n",
       "      <td>3</td>\n",
       "      <td>2</td>\n",
       "      <td>1</td>\n",
       "      <td>3</td>\n",
       "      <td>3</td>\n",
       "      <td>4</td>\n",
       "      <td>2</td>\n",
       "      <td>3</td>\n",
       "      <td>3</td>\n",
       "      <td>...</td>\n",
       "      <td>2</td>\n",
       "      <td>13</td>\n",
       "      <td>4</td>\n",
       "      <td>5</td>\n",
       "      <td>70</td>\n",
       "      <td>1</td>\n",
       "      <td>5</td>\n",
       "      <td>biology</td>\n",
       "      <td>30</td>\n",
       "      <td>YES</td>\n",
       "    </tr>\n",
       "    <tr>\n",
       "      <th>4</th>\n",
       "      <td>2</td>\n",
       "      <td>2</td>\n",
       "      <td>3</td>\n",
       "      <td>4</td>\n",
       "      <td>4</td>\n",
       "      <td>2</td>\n",
       "      <td>4</td>\n",
       "      <td>4</td>\n",
       "      <td>4</td>\n",
       "      <td>3</td>\n",
       "      <td>...</td>\n",
       "      <td>2</td>\n",
       "      <td>19</td>\n",
       "      <td>10</td>\n",
       "      <td>1</td>\n",
       "      <td>10</td>\n",
       "      <td>1</td>\n",
       "      <td>4</td>\n",
       "      <td>Psychology</td>\n",
       "      <td>46</td>\n",
       "      <td>YES</td>\n",
       "    </tr>\n",
       "    <tr>\n",
       "      <th>...</th>\n",
       "      <td>...</td>\n",
       "      <td>...</td>\n",
       "      <td>...</td>\n",
       "      <td>...</td>\n",
       "      <td>...</td>\n",
       "      <td>...</td>\n",
       "      <td>...</td>\n",
       "      <td>...</td>\n",
       "      <td>...</td>\n",
       "      <td>...</td>\n",
       "      <td>...</td>\n",
       "      <td>...</td>\n",
       "      <td>...</td>\n",
       "      <td>...</td>\n",
       "      <td>...</td>\n",
       "      <td>...</td>\n",
       "      <td>...</td>\n",
       "      <td>...</td>\n",
       "      <td>...</td>\n",
       "      <td>...</td>\n",
       "      <td>...</td>\n",
       "    </tr>\n",
       "    <tr>\n",
       "      <th>39770</th>\n",
       "      <td>2</td>\n",
       "      <td>1</td>\n",
       "      <td>3</td>\n",
       "      <td>2</td>\n",
       "      <td>3</td>\n",
       "      <td>2</td>\n",
       "      <td>1</td>\n",
       "      <td>3</td>\n",
       "      <td>1</td>\n",
       "      <td>4</td>\n",
       "      <td>...</td>\n",
       "      <td>1</td>\n",
       "      <td>16</td>\n",
       "      <td>2</td>\n",
       "      <td>4</td>\n",
       "      <td>60</td>\n",
       "      <td>1</td>\n",
       "      <td>2</td>\n",
       "      <td>0</td>\n",
       "      <td>50</td>\n",
       "      <td>YES</td>\n",
       "    </tr>\n",
       "    <tr>\n",
       "      <th>39771</th>\n",
       "      <td>3</td>\n",
       "      <td>4</td>\n",
       "      <td>3</td>\n",
       "      <td>4</td>\n",
       "      <td>3</td>\n",
       "      <td>4</td>\n",
       "      <td>4</td>\n",
       "      <td>4</td>\n",
       "      <td>3</td>\n",
       "      <td>4</td>\n",
       "      <td>...</td>\n",
       "      <td>1</td>\n",
       "      <td>21</td>\n",
       "      <td>10</td>\n",
       "      <td>0</td>\n",
       "      <td>10</td>\n",
       "      <td>1</td>\n",
       "      <td>4</td>\n",
       "      <td>Mathematic</td>\n",
       "      <td>52</td>\n",
       "      <td>YES</td>\n",
       "    </tr>\n",
       "    <tr>\n",
       "      <th>39772</th>\n",
       "      <td>2</td>\n",
       "      <td>1</td>\n",
       "      <td>2</td>\n",
       "      <td>1</td>\n",
       "      <td>1</td>\n",
       "      <td>1</td>\n",
       "      <td>1</td>\n",
       "      <td>1</td>\n",
       "      <td>2</td>\n",
       "      <td>1</td>\n",
       "      <td>...</td>\n",
       "      <td>2</td>\n",
       "      <td>48</td>\n",
       "      <td>7</td>\n",
       "      <td>1</td>\n",
       "      <td>30</td>\n",
       "      <td>2</td>\n",
       "      <td>3</td>\n",
       "      <td>Computer Science</td>\n",
       "      <td>18</td>\n",
       "      <td>NO</td>\n",
       "    </tr>\n",
       "    <tr>\n",
       "      <th>39773</th>\n",
       "      <td>3</td>\n",
       "      <td>1</td>\n",
       "      <td>2</td>\n",
       "      <td>2</td>\n",
       "      <td>3</td>\n",
       "      <td>3</td>\n",
       "      <td>3</td>\n",
       "      <td>4</td>\n",
       "      <td>3</td>\n",
       "      <td>1</td>\n",
       "      <td>...</td>\n",
       "      <td>2</td>\n",
       "      <td>20</td>\n",
       "      <td>6</td>\n",
       "      <td>1</td>\n",
       "      <td>60</td>\n",
       "      <td>1</td>\n",
       "      <td>2</td>\n",
       "      <td>History</td>\n",
       "      <td>30</td>\n",
       "      <td>YES</td>\n",
       "    </tr>\n",
       "    <tr>\n",
       "      <th>39774</th>\n",
       "      <td>2</td>\n",
       "      <td>1</td>\n",
       "      <td>2</td>\n",
       "      <td>1</td>\n",
       "      <td>4</td>\n",
       "      <td>2</td>\n",
       "      <td>1</td>\n",
       "      <td>1</td>\n",
       "      <td>1</td>\n",
       "      <td>1</td>\n",
       "      <td>...</td>\n",
       "      <td>2</td>\n",
       "      <td>26</td>\n",
       "      <td>10</td>\n",
       "      <td>1</td>\n",
       "      <td>10</td>\n",
       "      <td>1</td>\n",
       "      <td>4</td>\n",
       "      <td>Cognitive Science</td>\n",
       "      <td>41</td>\n",
       "      <td>YES</td>\n",
       "    </tr>\n",
       "  </tbody>\n",
       "</table>\n",
       "<p>39773 rows × 65 columns</p>\n",
       "</div>"
      ],
      "text/plain": [
       "       Q1A  Q2A  Q3A  Q4A  Q5A  Q6A  Q7A  Q8A  Q9A  Q10A  ...  gender  age  \\\n",
       "0        4    4    2    4    4    4    4    4    2     1  ...       2   16   \n",
       "1        4    1    2    3    4    4    3    4    3     2  ...       2   16   \n",
       "2        3    1    4    1    4    3    1    3    2     4  ...       2   17   \n",
       "3        2    3    2    1    3    3    4    2    3     3  ...       2   13   \n",
       "4        2    2    3    4    4    2    4    4    4     3  ...       2   19   \n",
       "...    ...  ...  ...  ...  ...  ...  ...  ...  ...   ...  ...     ...  ...   \n",
       "39770    2    1    3    2    3    2    1    3    1     4  ...       1   16   \n",
       "39771    3    4    3    4    3    4    4    4    3     4  ...       1   21   \n",
       "39772    2    1    2    1    1    1    1    1    2     1  ...       2   48   \n",
       "39773    3    1    2    2    3    3    3    4    3     1  ...       2   20   \n",
       "39774    2    1    2    1    4    2    1    1    1     1  ...       2   26   \n",
       "\n",
       "       religion  orientation  race  married  familysize              major  \\\n",
       "0            12            1    10        1           2                  0   \n",
       "1             7            0    70        1           4                  0   \n",
       "2             4            3    60        1           3                  0   \n",
       "3             4            5    70        1           5            biology   \n",
       "4            10            1    10        1           4         Psychology   \n",
       "...         ...          ...   ...      ...         ...                ...   \n",
       "39770         2            4    60        1           2                  0   \n",
       "39771        10            0    10        1           4         Mathematic   \n",
       "39772         7            1    30        2           3   Computer Science   \n",
       "39773         6            1    60        1           2            History   \n",
       "39774        10            1    10        1           4  Cognitive Science   \n",
       "\n",
       "       Depressive Total Score  Depressive Diagnosis  \n",
       "0                          41                   YES  \n",
       "1                          38                   YES  \n",
       "2                          53                   YES  \n",
       "3                          30                   YES  \n",
       "4                          46                   YES  \n",
       "...                       ...                   ...  \n",
       "39770                      50                   YES  \n",
       "39771                      52                   YES  \n",
       "39772                      18                    NO  \n",
       "39773                      30                   YES  \n",
       "39774                      41                   YES  \n",
       "\n",
       "[39773 rows x 65 columns]"
      ]
     },
     "execution_count": 73,
     "metadata": {},
     "output_type": "execute_result"
    }
   ],
   "source": [
    "# Eliminamos columnas específicas innecesarias usando sus nombres exactos\n",
    "ir=[\n",
    "    'Q1I', 'Q1E', 'Q2I', 'Q2E', 'Q3I', 'Q3E', 'Q4I', 'Q4E', 'Q5I', 'Q5E',\n",
    "    'Q6I', 'Q6E', 'Q7I', 'Q7E', 'Q8I', 'Q8E', 'Q9I', 'Q9E', 'Q10I', 'Q10E',\n",
    "    'Q11I', 'Q11E', 'Q12I', 'Q12E', 'Q13I', 'Q13E', 'Q14I', 'Q14E', 'Q15I', 'Q15E',\n",
    "    'Q16I', 'Q16E', 'Q17I', 'Q17E', 'Q18I', 'Q18E', 'Q19I', 'Q19E', 'Q20I', 'Q20E',\n",
    "    'Q21I', 'Q21E', 'Q22I', 'Q22E', 'Q23I', 'Q23E', 'Q24I', 'Q24E', 'Q25I', 'Q25E',\n",
    "    'Q26I', 'Q26E', 'Q27I', 'Q27E', 'Q28I', 'Q28E', 'Q29I', 'Q29E', 'Q30I', 'Q30E',\n",
    "    'Q31I', 'Q31E', 'Q32I', 'Q32E', 'Q33I', 'Q33E', 'Q34I', 'Q34E', 'Q35I', 'Q35E',\n",
    "    'Q36I', 'Q36E', 'Q37I', 'Q37E', 'Q38I', 'Q38E', 'Q39I', 'Q39E', 'Q40I', 'Q40E',\n",
    "    'Q41I', 'Q41E', 'Q42I', 'Q42E','VCL1', 'VCL2', 'VCL3', 'VCL4', 'VCL5', 'VCL6', \n",
    "    'VCL7', 'VCL8', 'VCL9', 'VCL10', 'VCL11', 'VCL12', 'VCL13', 'VCL14', 'VCL15', \n",
    "    'VCL16','introelapse', 'testelapse', 'surveyelapse', 'source', \n",
    "    'screensize', 'uniquenetworklocation', 'hand', 'voted', 'engnat'\n",
    "]\n",
    "\n",
    "qst.drop(columns=ir, inplace=True)\n",
    "qst"
   ]
  },
  {
   "cell_type": "markdown",
   "id": "070c9dbf",
   "metadata": {},
   "source": [
    "1.7. Ver si existen valores atípicos (outliers)"
   ]
  },
  {
   "cell_type": "code",
   "execution_count": 74,
   "id": "e448f576",
   "metadata": {
    "scrolled": true
   },
   "outputs": [
    {
     "data": {
      "image/png": "[encoded data removed]",
      "text/plain": [
       "<Figure size 432x108 with 1 Axes>"
      ]
     },
     "metadata": {
      "needs_background": "light"
     },
     "output_type": "display_data"
    },
    {
     "data": {
      "image/png": "[encoded data removed]",
      "text/plain": [
       "<Figure size 432x108 with 1 Axes>"
      ]
     },
     "metadata": {
      "needs_background": "light"
     },
     "output_type": "display_data"
    },
    {
     "data": {
      "image/png": "[encoded data removed]",
      "text/plain": [
       "<Figure size 432x108 with 1 Axes>"
      ]
     },
     "metadata": {
      "needs_background": "light"
     },
     "output_type": "display_data"
    },
    {
     "data": {
      "image/png": "[encoded data removed]",
      "text/plain": [
       "<Figure size 432x108 with 1 Axes>"
      ]
     },
     "metadata": {
      "needs_background": "light"
     },
     "output_type": "display_data"
    },
    {
     "data": {
      "image/png": "[encoded data removed]",
      "text/plain": [
       "<Figure size 432x108 with 1 Axes>"
      ]
     },
     "metadata": {
      "needs_background": "light"
     },
     "output_type": "display_data"
    },
    {
     "data": {
      "image/png": "[encoded data removed]",
      "text/plain": [
       "<Figure size 432x108 with 1 Axes>"
      ]
     },
     "metadata": {
      "needs_background": "light"
     },
     "output_type": "display_data"
    },
    {
     "data": {
      "image/png": "[encoded data removed]",
      "text/plain": [
       "<Figure size 432x108 with 1 Axes>"
      ]
     },
     "metadata": {
      "needs_background": "light"
     },
     "output_type": "display_data"
    },
    {
     "data": {
      "image/png": "[encoded data removed]",
      "text/plain": [
       "<Figure size 432x108 with 1 Axes>"
      ]
     },
     "metadata": {
      "needs_background": "light"
     },
     "output_type": "display_data"
    },
    {
     "data": {
      "image/png": "[encoded data removed]",
      "text/plain": [
       "<Figure size 432x108 with 1 Axes>"
      ]
     },
     "metadata": {
      "needs_background": "light"
     },
     "output_type": "display_data"
    },
    {
     "data": {
      "image/png": "[encoded data removed]",
      "text/plain": [
       "<Figure size 432x108 with 1 Axes>"
      ]
     },
     "metadata": {
      "needs_background": "light"
     },
     "output_type": "display_data"
    },
    {
     "data": {
      "image/png": "[encoded data removed]",
      "text/plain": [
       "<Figure size 432x108 with 1 Axes>"
      ]
     },
     "metadata": {
      "needs_background": "light"
     },
     "output_type": "display_data"
    },
    {
     "data": {
      "image/png": "[encoded data removed]",
      "text/plain": [
       "<Figure size 432x108 with 1 Axes>"
      ]
     },
     "metadata": {
      "needs_background": "light"
     },
     "output_type": "display_data"
    },
    {
     "data": {
      "image/png": "[encoded data removed]",
      "text/plain": [
       "<Figure size 432x108 with 1 Axes>"
      ]
     },
     "metadata": {
      "needs_background": "light"
     },
     "output_type": "display_data"
    },
    {
     "data": {
      "image/png": "[encoded data removed]",
      "text/plain": [
       "<Figure size 432x108 with 1 Axes>"
      ]
     },
     "metadata": {
      "needs_background": "light"
     },
     "output_type": "display_data"
    },
    {
     "data": {
      "image/png": "[encoded data removed]",
      "text/plain": [
       "<Figure size 432x108 with 1 Axes>"
      ]
     },
     "metadata": {
      "needs_background": "light"
     },
     "output_type": "display_data"
    },
    {
     "data": {
      "image/png": "[encoded data removed]",
      "text/plain": [
       "<Figure size 432x108 with 1 Axes>"
      ]
     },
     "metadata": {
      "needs_background": "light"
     },
     "output_type": "display_data"
    },
    {
     "data": {
      "image/png": "[encoded data removed]",
      "text/plain": [
       "<Figure size 432x108 with 1 Axes>"
      ]
     },
     "metadata": {
      "needs_background": "light"
     },
     "output_type": "display_data"
    },
    {
     "data": {
      "image/png": "[encoded data removed]",
      "text/plain": [
       "<Figure size 432x108 with 1 Axes>"
      ]
     },
     "metadata": {
      "needs_background": "light"
     },
     "output_type": "display_data"
    },
    {
     "data": {
      "image/png": "[encoded data removed]",
      "text/plain": [
       "<Figure size 432x108 with 1 Axes>"
      ]
     },
     "metadata": {
      "needs_background": "light"
     },
     "output_type": "display_data"
    },
    {
     "data": {
      "image/png": "[encoded data removed]",
      "text/plain": [
       "<Figure size 432x108 with 1 Axes>"
      ]
     },
     "metadata": {
      "needs_background": "light"
     },
     "output_type": "display_data"
    },
    {
     "data": {
      "image/png": "[encoded data removed]",
      "text/plain": [
       "<Figure size 432x108 with 1 Axes>"
      ]
     },
     "metadata": {
      "needs_background": "light"
     },
     "output_type": "display_data"
    },
    {
     "data": {
      "image/png": "[encoded data removed]",
      "text/plain": [
       "<Figure size 432x108 with 1 Axes>"
      ]
     },
     "metadata": {
      "needs_background": "light"
     },
     "output_type": "display_data"
    },
    {
     "data": {
      "image/png": "[encoded data removed]",
      "text/plain": [
       "<Figure size 432x108 with 1 Axes>"
      ]
     },
     "metadata": {
      "needs_background": "light"
     },
     "output_type": "display_data"
    },
    {
     "data": {
      "image/png": "[encoded data removed]",
      "text/plain": [
       "<Figure size 432x108 with 1 Axes>"
      ]
     },
     "metadata": {
      "needs_background": "light"
     },
     "output_type": "display_data"
    },
    {
     "data": {
      "image/png": "[encoded data removed]",
      "text/plain": [
       "<Figure size 432x108 with 1 Axes>"
      ]
     },
     "metadata": {
      "needs_background": "light"
     },
     "output_type": "display_data"
    },
    {
     "data": {
      "image/png": "[encoded data removed]",
      "text/plain": [
       "<Figure size 432x108 with 1 Axes>"
      ]
     },
     "metadata": {
      "needs_background": "light"
     },
     "output_type": "display_data"
    },
    {
     "data": {
      "image/png": "[encoded data removed]",
      "text/plain": [
       "<Figure size 432x108 with 1 Axes>"
      ]
     },
     "metadata": {
      "needs_background": "light"
     },
     "output_type": "display_data"
    },
    {
     "data": {
      "image/png": "[encoded data removed]",
      "text/plain": [
       "<Figure size 432x108 with 1 Axes>"
      ]
     },
     "metadata": {
      "needs_background": "light"
     },
     "output_type": "display_data"
    },
    {
     "data": {
      "image/png": "[encoded data removed]",
      "text/plain": [
       "<Figure size 432x108 with 1 Axes>"
      ]
     },
     "metadata": {
      "needs_background": "light"
     },
     "output_type": "display_data"
    },
    {
     "data": {
      "image/png": "[encoded data removed]",
      "text/plain": [
       "<Figure size 432x108 with 1 Axes>"
      ]
     },
     "metadata": {
      "needs_background": "light"
     },
     "output_type": "display_data"
    },
    {
     "data": {
      "image/png": "[encoded data removed]",
      "text/plain": [
       "<Figure size 432x108 with 1 Axes>"
      ]
     },
     "metadata": {
      "needs_background": "light"
     },
     "output_type": "display_data"
    },
    {
     "data": {
      "image/png": "[encoded data removed]",
      "text/plain": [
       "<Figure size 432x108 with 1 Axes>"
      ]
     },
     "metadata": {
      "needs_background": "light"
     },
     "output_type": "display_data"
    },
    {
     "data": {
      "image/png": "[encoded data removed]",
      "text/plain": [
       "<Figure size 432x108 with 1 Axes>"
      ]
     },
     "metadata": {
      "needs_background": "light"
     },
     "output_type": "display_data"
    },
    {
     "data": {
      "image/png": "[encoded data removed]",
      "text/plain": [
       "<Figure size 432x108 with 1 Axes>"
      ]
     },
     "metadata": {
      "needs_background": "light"
     },
     "output_type": "display_data"
    },
    {
     "data": {
      "image/png": "[encoded data removed]",
      "text/plain": [
       "<Figure size 432x108 with 1 Axes>"
      ]
     },
     "metadata": {
      "needs_background": "light"
     },
     "output_type": "display_data"
    },
    {
     "data": {
      "image/png": "[encoded data removed]",
      "text/plain": [
       "<Figure size 432x108 with 1 Axes>"
      ]
     },
     "metadata": {
      "needs_background": "light"
     },
     "output_type": "display_data"
    },
    {
     "data": {
      "image/png": "[encoded data removed]",
      "text/plain": [
       "<Figure size 432x108 with 1 Axes>"
      ]
     },
     "metadata": {
      "needs_background": "light"
     },
     "output_type": "display_data"
    },
    {
     "data": {
      "image/png": "[encoded data removed]",
      "text/plain": [
       "<Figure size 432x108 with 1 Axes>"
      ]
     },
     "metadata": {
      "needs_background": "light"
     },
     "output_type": "display_data"
    },
    {
     "data": {
      "image/png": "[encoded data removed]",
      "text/plain": [
       "<Figure size 432x108 with 1 Axes>"
      ]
     },
     "metadata": {
      "needs_background": "light"
     },
     "output_type": "display_data"
    },
    {
     "data": {
      "image/png": "[encoded data removed]",
      "text/plain": [
       "<Figure size 432x108 with 1 Axes>"
      ]
     },
     "metadata": {
      "needs_background": "light"
     },
     "output_type": "display_data"
    },
    {
     "data": {
      "image/png": "[encoded data removed]",
      "text/plain": [
       "<Figure size 432x108 with 1 Axes>"
      ]
     },
     "metadata": {
      "needs_background": "light"
     },
     "output_type": "display_data"
    },
    {
     "data": {
      "image/png": "[encoded data removed]",
      "text/plain": [
       "<Figure size 432x108 with 1 Axes>"
      ]
     },
     "metadata": {
      "needs_background": "light"
     },
     "output_type": "display_data"
    },
    {
     "data": {
      "image/png": "[encoded data removed]",
      "text/plain": [
       "<Figure size 432x108 with 1 Axes>"
      ]
     },
     "metadata": {
      "needs_background": "light"
     },
     "output_type": "display_data"
    },
    {
     "data": {
      "image/png": "[encoded data removed]",
      "text/plain": [
       "<Figure size 432x108 with 1 Axes>"
      ]
     },
     "metadata": {
      "needs_background": "light"
     },
     "output_type": "display_data"
    },
    {
     "data": {
      "image/png": "[encoded data removed]",
      "text/plain": [
       "<Figure size 432x108 with 1 Axes>"
      ]
     },
     "metadata": {
      "needs_background": "light"
     },
     "output_type": "display_data"
    },
    {
     "data": {
      "image/png": "[encoded data removed]",
      "text/plain": [
       "<Figure size 432x108 with 1 Axes>"
      ]
     },
     "metadata": {
      "needs_background": "light"
     },
     "output_type": "display_data"
    },
    {
     "data": {
      "image/png": "[encoded data removed]",
      "text/plain": [
       "<Figure size 432x108 with 1 Axes>"
      ]
     },
     "metadata": {
      "needs_background": "light"
     },
     "output_type": "display_data"
    },
    {
     "data": {
      "image/png": "[encoded data removed]",
      "text/plain": [
       "<Figure size 432x108 with 1 Axes>"
      ]
     },
     "metadata": {
      "needs_background": "light"
     },
     "output_type": "display_data"
    },
    {
     "data": {
      "image/png": "[encoded data removed]",
      "text/plain": [
       "<Figure size 432x108 with 1 Axes>"
      ]
     },
     "metadata": {
      "needs_background": "light"
     },
     "output_type": "display_data"
    },
    {
     "data": {
      "image/png": "[encoded data removed]",
      "text/plain": [
       "<Figure size 432x108 with 1 Axes>"
      ]
     },
     "metadata": {
      "needs_background": "light"
     },
     "output_type": "display_data"
    },
    {
     "data": {
      "image/png": "[encoded data removed]",
      "text/plain": [
       "<Figure size 432x108 with 1 Axes>"
      ]
     },
     "metadata": {
      "needs_background": "light"
     },
     "output_type": "display_data"
    },
    {
     "data": {
      "image/png": "[encoded data removed]",
      "text/plain": [
       "<Figure size 432x108 with 1 Axes>"
      ]
     },
     "metadata": {
      "needs_background": "light"
     },
     "output_type": "display_data"
    },
    {
     "data": {
      "image/png": "[encoded data removed]",
      "text/plain": [
       "<Figure size 432x108 with 1 Axes>"
      ]
     },
     "metadata": {
      "needs_background": "light"
     },
     "output_type": "display_data"
    },
    {
     "data": {
      "image/png": "[encoded data removed]",
      "text/plain": [
       "<Figure size 432x108 with 1 Axes>"
      ]
     },
     "metadata": {
      "needs_background": "light"
     },
     "output_type": "display_data"
    },
    {
     "data": {
      "image/png": "[encoded data removed]",
      "text/plain": [
       "<Figure size 432x108 with 1 Axes>"
      ]
     },
     "metadata": {
      "needs_background": "light"
     },
     "output_type": "display_data"
    },
    {
     "data": {
      "image/png": "[encoded data removed]",
      "text/plain": [
       "<Figure size 432x108 with 1 Axes>"
      ]
     },
     "metadata": {
      "needs_background": "light"
     },
     "output_type": "display_data"
    },
    {
     "data": {
      "image/png": "[encoded data removed]",
      "text/plain": [
       "<Figure size 432x108 with 1 Axes>"
      ]
     },
     "metadata": {
      "needs_background": "light"
     },
     "output_type": "display_data"
    },
    {
     "data": {
      "image/png": "[encoded data removed]",
      "text/plain": [
       "<Figure size 432x108 with 1 Axes>"
      ]
     },
     "metadata": {
      "needs_background": "light"
     },
     "output_type": "display_data"
    },
    {
     "data": {
      "image/png": "[encoded data removed]",
      "text/plain": [
       "<Figure size 432x108 with 1 Axes>"
      ]
     },
     "metadata": {
      "needs_background": "light"
     },
     "output_type": "display_data"
    },
    {
     "data": {
      "image/png": "[encoded data removed]",
      "text/plain": [
       "<Figure size 432x108 with 1 Axes>"
      ]
     },
     "metadata": {
      "needs_background": "light"
     },
     "output_type": "display_data"
    },
    {
     "data": {
      "image/png": "[encoded data removed]",
      "text/plain": [
       "<Figure size 432x108 with 1 Axes>"
      ]
     },
     "metadata": {
      "needs_background": "light"
     },
     "output_type": "display_data"
    },
    {
     "data": {
      "image/png": "[encoded data removed]",
      "text/plain": [
       "<Figure size 432x108 with 1 Axes>"
      ]
     },
     "metadata": {
      "needs_background": "light"
     },
     "output_type": "display_data"
    }
   ],
   "source": [
    "columnas_numericas = qst.select_dtypes(include='number').columns\n",
    "\n",
    "for col in columnas_numericas:\n",
    "    plt.figure(figsize=(6, 1.5))\n",
    "    sns.boxplot(x=qst[col])\n",
    "    plt.title(col)\n",
    "    plt.show()"
   ]
  },
  {
   "cell_type": "markdown",
   "id": "57771ef9",
   "metadata": {},
   "source": [
    "Como la variable género no es continua es mejor usar un gráfico de barras"
   ]
  },
  {
   "cell_type": "code",
   "execution_count": 43,
   "id": "a3e0ac9f",
   "metadata": {},
   "outputs": [
    {
     "data": {
      "text/plain": [
       "<AxesSubplot:xlabel='gender', ylabel='count'>"
      ]
     },
     "execution_count": 43,
     "metadata": {},
     "output_type": "execute_result"
    },
    {
     "data": {
      "image/png": "[encoded data removed]",
      "text/plain": [
       "<Figure size 432x288 with 1 Axes>"
      ]
     },
     "metadata": {
      "needs_background": "light"
     },
     "output_type": "display_data"
    }
   ],
   "source": [
    "sns.countplot(x='gender', data=qst)"
   ]
  },
  {
   "cell_type": "code",
   "execution_count": 287,
   "id": "c70d7f68",
   "metadata": {},
   "outputs": [
    {
     "data": {
      "text/plain": [
       "<AxesSubplot:xlabel='married', ylabel='count'>"
      ]
     },
     "execution_count": 287,
     "metadata": {},
     "output_type": "execute_result"
    },
    {
     "data": {
      "image/png": "[encoded data removed]",
      "text/plain": [
       "<Figure size 432x288 with 1 Axes>"
      ]
     },
     "metadata": {
      "needs_background": "light"
     },
     "output_type": "display_data"
    }
   ],
   "source": [
    "sns.countplot(x='married', data=qst)"
   ]
  },
  {
   "cell_type": "code",
   "execution_count": 75,
   "id": "bae3827c",
   "metadata": {},
   "outputs": [
    {
     "name": "stderr",
     "output_type": "stream",
     "text": [
      "C:\\Users\\Laura\\AppData\\Local\\Temp\\ipykernel_26024\\2631025890.py:1: SettingWithCopyWarning: \n",
      "A value is trying to be set on a copy of a slice from a DataFrame.\n",
      "Try using .loc[row_indexer,col_indexer] = value instead\n",
      "\n",
      "See the caveats in the documentation: https://pandas.pydata.org/pandas-docs/stable/user_guide/indexing.html#returning-a-view-versus-a-copy\n",
      "  qst['age'] = qst['age'].replace({\n"
     ]
    }
   ],
   "source": [
    "qst['age'] = qst['age'].replace({\n",
    "    1996: 29,\n",
    "    1998: 27,\n",
    "    1993: 32,\n",
    "    1991: 34,\n",
    "    1999: 26\n",
    "})"
   ]
  },
  {
   "cell_type": "markdown",
   "id": "3f74d5fb",
   "metadata": {},
   "source": [
    "Se elimina outliers de edad y familysize"
   ]
  },
  {
   "cell_type": "code",
   "execution_count": 76,
   "id": "97060d79",
   "metadata": {},
   "outputs": [],
   "source": [
    "# Eliminar filas con edades 223, 117 o 115\n",
    "qst = qst[~qst['age'].isin([223, 117, 115])]\n",
    "\n",
    "# Eliminar filas con familysize > 12\n",
    "qst = qst[qst['familysize'] <= 12]"
   ]
  },
  {
   "cell_type": "markdown",
   "id": "3eab6190",
   "metadata": {},
   "source": [
    "1.8 Resumen estadístico"
   ]
  },
  {
   "cell_type": "markdown",
   "id": "41bf3f3a",
   "metadata": {},
   "source": [
    "Se agrupan las edades para tener mejor visualización"
   ]
  },
  {
   "cell_type": "code",
   "execution_count": 77,
   "id": "da3e6f07",
   "metadata": {},
   "outputs": [],
   "source": [
    "qst['age_group'] = qst['age'].apply(lambda x:\n",
    "    'Adolescente' if x <= 17 else\n",
    "    'Joven adulto' if x <= 25 else\n",
    "    'Adulto joven' if x <= 35 else\n",
    "    'Adulto medio' if x <= 50 else\n",
    "    'Adulto mayor' if x <= 60 else\n",
    "    'Sénior'\n",
    ")"
   ]
  },
  {
   "cell_type": "markdown",
   "id": "9f023bb2",
   "metadata": {},
   "source": [
    "Se hace una suma de las preguntas de cada subescala, depresión, ansiedad y estrés. "
   ]
  },
  {
   "cell_type": "code",
   "execution_count": 78,
   "id": "c6a7acb5",
   "metadata": {},
   "outputs": [],
   "source": [
    "dass_anx = ['Q2A', 'Q4A', 'Q7A', 'Q9A', 'Q15A', 'Q19A', 'Q20A',\n",
    "            'Q23A', 'Q25A', 'Q28A', 'Q30A', 'Q36A', 'Q40A', 'Q41A']\n",
    "dass_str = ['Q1A', 'Q6A', 'Q8A', 'Q11A', 'Q12A', 'Q14A', 'Q18A',\n",
    "            'Q22A', 'Q27A', 'Q29A', 'Q32A', 'Q33A', 'Q35A', 'Q39A']"
   ]
  },
  {
   "cell_type": "code",
   "execution_count": 79,
   "id": "1299d9e0",
   "metadata": {},
   "outputs": [],
   "source": [
    "qst['DASS_Depression'] = qst[items].sum(axis=1)\n",
    "qst['DASS_Anxiety'] = qst[dass_anx].sum(axis=1)\n",
    "qst['DASS_Stress'] = qst[dass_str].sum(axis=1)"
   ]
  },
  {
   "cell_type": "markdown",
   "id": "91d34e33",
   "metadata": {},
   "source": [
    "A continuación las preguntas para el análisis estadístico"
   ]
  },
  {
   "cell_type": "code",
   "execution_count": 80,
   "id": "763ea97e",
   "metadata": {},
   "outputs": [
    {
     "name": "stdout",
     "output_type": "stream",
     "text": [
      "Educación vs DASS\n",
      "            DASS_Depression  DASS_Anxiety  DASS_Stress\n",
      "education                                            \n",
      "0                35.322330     29.510680    35.190291\n",
      "1                38.785222     33.579557    38.404433\n",
      "2                36.421046     31.219225    36.111274\n",
      "3                33.707850     28.995031    34.136800\n",
      "4                32.000400     26.935548    32.698759 \n",
      "\n"
     ]
    }
   ],
   "source": [
    "# ¿Influye el nivel educativo en los niveles de depresión, ansiedad o estrés?\n",
    "educ_dass = qst.groupby('education')[['DASS_Depression', 'DASS_Anxiety', 'DASS_Stress']].mean()\n",
    "print(\"Educación vs DASS\\n\", educ_dass, \"\\n\")"
   ]
  },
  {
   "cell_type": "code",
   "execution_count": 81,
   "id": "2b46d2c6",
   "metadata": {
    "scrolled": false
   },
   "outputs": [
    {
     "name": "stdout",
     "output_type": "stream",
     "text": [
      "Edad vs DASS\n",
      "               DASS_Depression  DASS_Anxiety  DASS_Stress\n",
      "age_group                                               \n",
      "Adolescente         38.668135     33.939298    38.396284\n",
      "Adulto joven        32.974751     27.208106    33.426343\n",
      "Adulto mayor        31.767883     23.116788    29.954745\n",
      "Adulto medio        31.519054     24.688130    31.984669\n",
      "Joven adulto        34.998783     30.434760    35.160461\n",
      "Sénior              29.335968     21.031621    26.616601 \n",
      "\n"
     ]
    }
   ],
   "source": [
    "# ¿Se observa una diferencia en síntomas emocionales entre personas de diferentes rangos de edad?\n",
    "edad_dass = qst.groupby('age_group')[['DASS_Depression', 'DASS_Anxiety', 'DASS_Stress']].mean()\n",
    "print(\"Edad vs DASS\\n\", edad_dass, \"\\n\")"
   ]
  },
  {
   "cell_type": "code",
   "execution_count": 82,
   "id": "7eab6848",
   "metadata": {},
   "outputs": [
    {
     "name": "stdout",
     "output_type": "stream",
     "text": [
      "Síntomas por género\n",
      "         DASS_Depression  DASS_Anxiety  DASS_Stress\n",
      "gender                                            \n",
      "0             36.955224     30.253731    35.537313\n",
      "1             34.264555     27.400706    32.629258\n",
      "2             35.175763     30.741467    35.810322\n",
      "3             41.232727     34.483636    39.218182 \n",
      "\n"
     ]
    }
   ],
   "source": [
    "# ¿Qué síntomas son más frecuentes en mujeres y cuáles en hombres?\n",
    "symptoms_gender = qst.groupby('gender')[['DASS_Depression', 'DASS_Anxiety', 'DASS_Stress']].mean()\n",
    "print(\"Síntomas por género\\n\", symptoms_gender, \"\\n\")"
   ]
  },
  {
   "cell_type": "code",
   "execution_count": 83,
   "id": "3777c742",
   "metadata": {},
   "outputs": [
    {
     "name": "stdout",
     "output_type": "stream",
     "text": [
      "4. TIPI por diagnóstico depresivo\n",
      "                          TIPI1     TIPI2     TIPI3     TIPI4     TIPI5  \\\n",
      "Depressive Diagnosis                                                     \n",
      "NO                    4.534312  3.676179  5.424447  3.633784  5.559386   \n",
      "YES                   3.651246  4.285973  4.618801  5.450545  4.821790   \n",
      "\n",
      "                         TIPI6     TIPI7     TIPI8     TIPI9    TIPI10  \n",
      "Depressive Diagnosis                                                    \n",
      "NO                    4.126031  5.415869  3.416034  5.112009  3.288519  \n",
      "YES                   4.982233  5.248953  4.436521  3.386042  3.810857   \n",
      "\n"
     ]
    }
   ],
   "source": [
    "# ¿Qué rasgos de personalidad (TIPI) son más comunes en personas con depresión?\n",
    "tipi_cols = ['TIPI1', 'TIPI2', 'TIPI3', 'TIPI4', 'TIPI5', 'TIPI6', 'TIPI7', 'TIPI8', 'TIPI9', 'TIPI10']\n",
    "tipi_by_diag = qst.groupby('Depressive Diagnosis')[tipi_cols].mean()\n",
    "print(\"4. TIPI por diagnóstico depresivo\\n\", tipi_by_diag, \"\\n\")"
   ]
  },
  {
   "cell_type": "code",
   "execution_count": 84,
   "id": "bd709973",
   "metadata": {},
   "outputs": [
    {
     "name": "stdout",
     "output_type": "stream",
     "text": [
      "Orientación sexual vs ansiedad y estrés\n",
      "              DASS_Anxiety  DASS_Stress\n",
      "orientation                           \n",
      "0               31.183371    35.273928\n",
      "1               28.806880    34.242988\n",
      "2               32.721656    37.864027\n",
      "3               31.209959    36.143224\n",
      "4               31.554711    35.770010\n",
      "5               32.427080    36.610322 \n",
      "\n"
     ]
    }
   ],
   "source": [
    "# ¿Las personas que se identifican con una orientación sexual diferente muestran mayores niveles de estrés o ansiedad?\n",
    "orientation_anx_str = qst.groupby('orientation')[['DASS_Anxiety', 'DASS_Stress']].mean()\n",
    "print(\"Orientación sexual vs ansiedad y estrés\\n\", orientation_anx_str, \"\\n\")"
   ]
  },
  {
   "cell_type": "code",
   "execution_count": 85,
   "id": "a78fa6ae",
   "metadata": {},
   "outputs": [
    {
     "name": "stdout",
     "output_type": "stream",
     "text": [
      "Estado civil y género vs depresión\n",
      " gender           0          1          2          3\n",
      "married                                            \n",
      "0        19.000000  35.666667  37.272152        NaN\n",
      "1        37.174603  34.904030  35.817506  41.459203\n",
      "2        42.000000  29.785241  30.243045  38.125000\n",
      "3        31.000000  34.037736  34.025830  31.285714 \n",
      "\n"
     ]
    }
   ],
   "source": [
    "# ¿Influye el estado civil en los niveles de depresión diferenciando por género?\n",
    "dep_by_married_gender = qst.groupby(['married', 'gender'])['DASS_Depression'].mean().unstack()\n",
    "print(\"Estado civil y género vs depresión\\n\", dep_by_married_gender, \"\\n\")"
   ]
  },
  {
   "cell_type": "code",
   "execution_count": 86,
   "id": "f71676c2",
   "metadata": {},
   "outputs": [
    {
     "name": "stdout",
     "output_type": "stream",
     "text": [
      "Orientación sexual vs DASS completo\n",
      "              DASS_Depression  DASS_Anxiety  DASS_Stress\n",
      "orientation                                            \n",
      "0                  34.478569     31.183371    35.273928\n",
      "1                  34.026398     28.806880    34.242988\n",
      "2                  38.428914     32.721656    37.864027\n",
      "3                  36.736140     31.209959    36.143224\n",
      "4                  36.367781     31.554711    35.770010\n",
      "5                  36.283271     32.427080    36.610322 \n",
      "\n"
     ]
    }
   ],
   "source": [
    "# ¿Las personas con una orientación sexual diferente a la heterosexual presentan mayores niveles de depresión, ansiedad o estrés?\n",
    "orientation_dass = qst.groupby('orientation')[['DASS_Depression', 'DASS_Anxiety', 'DASS_Stress']].mean()\n",
    "print(\"Orientación sexual vs DASS completo\\n\", orientation_dass, \"\\n\")"
   ]
  },
  {
   "cell_type": "markdown",
   "id": "4031a33b",
   "metadata": {},
   "source": [
    "Se van a convertir los datos para el modelo de aprendizaje a float, pero para la variable objetivo posteriormente se quedará en int"
   ]
  },
  {
   "cell_type": "markdown",
   "id": "1270cf9c",
   "metadata": {},
   "source": [
    "1.9. Se convierten los datos a tipo flotante para los modelos y se estandarizan"
   ]
  },
  {
   "cell_type": "code",
   "execution_count": 87,
   "id": "186bfaa3",
   "metadata": {},
   "outputs": [],
   "source": [
    "# Definir columnas a convertir y estandarizar\n",
    "dass_items = [f'Q{i}A' for i in range(1, 43)]\n",
    "tipi_items = [f'TIPI{i}' for i in range(1, 11)]\n",
    "cols_numericas = dass_items + tipi_items + ['age']\n",
    "\n",
    "# Convertir a float (por si hay strings)\n",
    "qst[cols_numericas] = qst[cols_numericas].apply(pd.to_numeric, errors='coerce').astype(float)\n",
    "\n",
    "# Estandarizar\n",
    "scaler = StandardScaler()\n",
    "qst[cols_numericas] = scaler.fit_transform(qst[cols_numericas])"
   ]
  },
  {
   "cell_type": "markdown",
   "id": "44d16dc2",
   "metadata": {},
   "source": [
    "1.10. Tipología de los datos"
   ]
  },
  {
   "cell_type": "code",
   "execution_count": 88,
   "id": "24c08314",
   "metadata": {
    "scrolled": true
   },
   "outputs": [
    {
     "name": "stdout",
     "output_type": "stream",
     "text": [
      "<class 'pandas.core.frame.DataFrame'>\n",
      "Int64Index: 39719 entries, 0 to 39774\n",
      "Data columns (total 69 columns):\n",
      " #   Column                  Non-Null Count  Dtype  \n",
      "---  ------                  --------------  -----  \n",
      " 0   Q1A                     39719 non-null  float64\n",
      " 1   Q2A                     39719 non-null  float64\n",
      " 2   Q3A                     39719 non-null  float64\n",
      " 3   Q4A                     39719 non-null  float64\n",
      " 4   Q5A                     39719 non-null  float64\n",
      " 5   Q6A                     39719 non-null  float64\n",
      " 6   Q7A                     39719 non-null  float64\n",
      " 7   Q8A                     39719 non-null  float64\n",
      " 8   Q9A                     39719 non-null  float64\n",
      " 9   Q10A                    39719 non-null  float64\n",
      " 10  Q11A                    39719 non-null  float64\n",
      " 11  Q12A                    39719 non-null  float64\n",
      " 12  Q13A                    39719 non-null  float64\n",
      " 13  Q14A                    39719 non-null  float64\n",
      " 14  Q15A                    39719 non-null  float64\n",
      " 15  Q16A                    39719 non-null  float64\n",
      " 16  Q17A                    39719 non-null  float64\n",
      " 17  Q18A                    39719 non-null  float64\n",
      " 18  Q19A                    39719 non-null  float64\n",
      " 19  Q20A                    39719 non-null  float64\n",
      " 20  Q21A                    39719 non-null  float64\n",
      " 21  Q22A                    39719 non-null  float64\n",
      " 22  Q23A                    39719 non-null  float64\n",
      " 23  Q24A                    39719 non-null  float64\n",
      " 24  Q25A                    39719 non-null  float64\n",
      " 25  Q26A                    39719 non-null  float64\n",
      " 26  Q27A                    39719 non-null  float64\n",
      " 27  Q28A                    39719 non-null  float64\n",
      " 28  Q29A                    39719 non-null  float64\n",
      " 29  Q30A                    39719 non-null  float64\n",
      " 30  Q31A                    39719 non-null  float64\n",
      " 31  Q32A                    39719 non-null  float64\n",
      " 32  Q33A                    39719 non-null  float64\n",
      " 33  Q34A                    39719 non-null  float64\n",
      " 34  Q35A                    39719 non-null  float64\n",
      " 35  Q36A                    39719 non-null  float64\n",
      " 36  Q37A                    39719 non-null  float64\n",
      " 37  Q38A                    39719 non-null  float64\n",
      " 38  Q39A                    39719 non-null  float64\n",
      " 39  Q40A                    39719 non-null  float64\n",
      " 40  Q41A                    39719 non-null  float64\n",
      " 41  Q42A                    39719 non-null  float64\n",
      " 42  country                 39719 non-null  object \n",
      " 43  TIPI1                   39719 non-null  float64\n",
      " 44  TIPI2                   39719 non-null  float64\n",
      " 45  TIPI3                   39719 non-null  float64\n",
      " 46  TIPI4                   39719 non-null  float64\n",
      " 47  TIPI5                   39719 non-null  float64\n",
      " 48  TIPI6                   39719 non-null  float64\n",
      " 49  TIPI7                   39719 non-null  float64\n",
      " 50  TIPI8                   39719 non-null  float64\n",
      " 51  TIPI9                   39719 non-null  float64\n",
      " 52  TIPI10                  39719 non-null  float64\n",
      " 53  education               39719 non-null  int64  \n",
      " 54  urban                   39719 non-null  int64  \n",
      " 55  gender                  39719 non-null  int64  \n",
      " 56  age                     39719 non-null  float64\n",
      " 57  religion                39719 non-null  int64  \n",
      " 58  orientation             39719 non-null  int64  \n",
      " 59  race                    39719 non-null  int64  \n",
      " 60  married                 39719 non-null  int64  \n",
      " 61  familysize              39719 non-null  int64  \n",
      " 62  major                   39719 non-null  object \n",
      " 63  Depressive Total Score  39719 non-null  int64  \n",
      " 64  Depressive Diagnosis    39719 non-null  object \n",
      " 65  age_group               39719 non-null  object \n",
      " 66  DASS_Depression         39719 non-null  int64  \n",
      " 67  DASS_Anxiety            39719 non-null  int64  \n",
      " 68  DASS_Stress             39719 non-null  int64  \n",
      "dtypes: float64(53), int64(12), object(4)\n",
      "memory usage: 21.2+ MB\n"
     ]
    }
   ],
   "source": [
    "qst.info()"
   ]
  },
  {
   "cell_type": "markdown",
   "id": "b67d61ea",
   "metadata": {},
   "source": [
    "**GRÁFICOS ADICIONALES**"
   ]
  },
  {
   "cell_type": "code",
   "execution_count": 89,
   "id": "a6f99657",
   "metadata": {},
   "outputs": [
    {
     "name": "stdout",
     "output_type": "stream",
     "text": [
      "YES    33657\n",
      "NO      6062\n",
      "Name: Depressive Diagnosis, dtype: int64\n",
      "['YES' 'NO']\n"
     ]
    }
   ],
   "source": [
    "print(qst['Depressive Diagnosis'].value_counts())\n",
    "print(qst['Depressive Diagnosis'].unique())"
   ]
  },
  {
   "cell_type": "code",
   "execution_count": 90,
   "id": "abc6e42d",
   "metadata": {},
   "outputs": [
    {
     "data": {
      "image/png": "[encoded data removed]",
      "text/plain": [
       "<Figure size 432x288 with 1 Axes>"
      ]
     },
     "metadata": {},
     "output_type": "display_data"
    }
   ],
   "source": [
    "labels = ['YES', 'NO']\n",
    "plt.pie(qst['Depressive Diagnosis'].value_counts(), labels = labels , autopct = '%0.0f%%')\n",
    "plt.show()"
   ]
  },
  {
   "cell_type": "code",
   "execution_count": 91,
   "id": "3d449179",
   "metadata": {},
   "outputs": [
    {
     "data": {
      "text/html": [
       "<div>\n",
       "<style scoped>\n",
       "    .dataframe tbody tr th:only-of-type {\n",
       "        vertical-align: middle;\n",
       "    }\n",
       "\n",
       "    .dataframe tbody tr th {\n",
       "        vertical-align: top;\n",
       "    }\n",
       "\n",
       "    .dataframe thead th {\n",
       "        text-align: right;\n",
       "    }\n",
       "</style>\n",
       "<table border=\"1\" class=\"dataframe\">\n",
       "  <thead>\n",
       "    <tr style=\"text-align: right;\">\n",
       "      <th></th>\n",
       "      <th>Q1A</th>\n",
       "      <th>Q2A</th>\n",
       "      <th>Q3A</th>\n",
       "      <th>Q4A</th>\n",
       "      <th>Q5A</th>\n",
       "      <th>Q6A</th>\n",
       "      <th>Q7A</th>\n",
       "      <th>Q8A</th>\n",
       "      <th>Q9A</th>\n",
       "      <th>Q10A</th>\n",
       "      <th>...</th>\n",
       "      <th>race</th>\n",
       "      <th>married</th>\n",
       "      <th>familysize</th>\n",
       "      <th>major</th>\n",
       "      <th>Depressive Total Score</th>\n",
       "      <th>Depressive Diagnosis</th>\n",
       "      <th>age_group</th>\n",
       "      <th>DASS_Depression</th>\n",
       "      <th>DASS_Anxiety</th>\n",
       "      <th>DASS_Stress</th>\n",
       "    </tr>\n",
       "  </thead>\n",
       "  <tbody>\n",
       "    <tr>\n",
       "      <th>0</th>\n",
       "      <td>1.337541</td>\n",
       "      <td>1.644169</td>\n",
       "      <td>-0.217710</td>\n",
       "      <td>1.966982</td>\n",
       "      <td>1.381883</td>\n",
       "      <td>1.390750</td>\n",
       "      <td>2.008622</td>\n",
       "      <td>1.443719</td>\n",
       "      <td>-0.627080</td>\n",
       "      <td>-1.270399</td>\n",
       "      <td>...</td>\n",
       "      <td>10</td>\n",
       "      <td>1</td>\n",
       "      <td>2</td>\n",
       "      <td>0</td>\n",
       "      <td>41</td>\n",
       "      <td>1</td>\n",
       "      <td>Adolescente</td>\n",
       "      <td>41</td>\n",
       "      <td>48</td>\n",
       "      <td>54</td>\n",
       "    </tr>\n",
       "    <tr>\n",
       "      <th>1</th>\n",
       "      <td>1.337541</td>\n",
       "      <td>-1.054374</td>\n",
       "      <td>-0.217710</td>\n",
       "      <td>1.007491</td>\n",
       "      <td>1.381883</td>\n",
       "      <td>1.390750</td>\n",
       "      <td>1.040870</td>\n",
       "      <td>1.443719</td>\n",
       "      <td>0.309238</td>\n",
       "      <td>-0.392760</td>\n",
       "      <td>...</td>\n",
       "      <td>70</td>\n",
       "      <td>1</td>\n",
       "      <td>4</td>\n",
       "      <td>0</td>\n",
       "      <td>38</td>\n",
       "      <td>1</td>\n",
       "      <td>Adolescente</td>\n",
       "      <td>38</td>\n",
       "      <td>31</td>\n",
       "      <td>41</td>\n",
       "    </tr>\n",
       "    <tr>\n",
       "      <th>2</th>\n",
       "      <td>0.368676</td>\n",
       "      <td>-1.054374</td>\n",
       "      <td>1.707964</td>\n",
       "      <td>-0.911491</td>\n",
       "      <td>1.381883</td>\n",
       "      <td>0.437989</td>\n",
       "      <td>-0.894632</td>\n",
       "      <td>0.493512</td>\n",
       "      <td>-0.627080</td>\n",
       "      <td>1.362518</td>\n",
       "      <td>...</td>\n",
       "      <td>60</td>\n",
       "      <td>1</td>\n",
       "      <td>3</td>\n",
       "      <td>0</td>\n",
       "      <td>53</td>\n",
       "      <td>1</td>\n",
       "      <td>Adolescente</td>\n",
       "      <td>53</td>\n",
       "      <td>26</td>\n",
       "      <td>31</td>\n",
       "    </tr>\n",
       "    <tr>\n",
       "      <th>3</th>\n",
       "      <td>-0.600190</td>\n",
       "      <td>0.744654</td>\n",
       "      <td>-0.217710</td>\n",
       "      <td>-0.911491</td>\n",
       "      <td>0.447191</td>\n",
       "      <td>0.437989</td>\n",
       "      <td>2.008622</td>\n",
       "      <td>-0.456694</td>\n",
       "      <td>0.309238</td>\n",
       "      <td>0.484879</td>\n",
       "      <td>...</td>\n",
       "      <td>70</td>\n",
       "      <td>1</td>\n",
       "      <td>5</td>\n",
       "      <td>biology</td>\n",
       "      <td>30</td>\n",
       "      <td>1</td>\n",
       "      <td>Adolescente</td>\n",
       "      <td>30</td>\n",
       "      <td>31</td>\n",
       "      <td>30</td>\n",
       "    </tr>\n",
       "    <tr>\n",
       "      <th>4</th>\n",
       "      <td>-0.600190</td>\n",
       "      <td>-0.154860</td>\n",
       "      <td>0.745127</td>\n",
       "      <td>1.966982</td>\n",
       "      <td>1.381883</td>\n",
       "      <td>-0.514773</td>\n",
       "      <td>2.008622</td>\n",
       "      <td>1.443719</td>\n",
       "      <td>1.245557</td>\n",
       "      <td>0.484879</td>\n",
       "      <td>...</td>\n",
       "      <td>10</td>\n",
       "      <td>1</td>\n",
       "      <td>4</td>\n",
       "      <td>Psychology</td>\n",
       "      <td>46</td>\n",
       "      <td>1</td>\n",
       "      <td>Joven adulto</td>\n",
       "      <td>46</td>\n",
       "      <td>54</td>\n",
       "      <td>43</td>\n",
       "    </tr>\n",
       "    <tr>\n",
       "      <th>...</th>\n",
       "      <td>...</td>\n",
       "      <td>...</td>\n",
       "      <td>...</td>\n",
       "      <td>...</td>\n",
       "      <td>...</td>\n",
       "      <td>...</td>\n",
       "      <td>...</td>\n",
       "      <td>...</td>\n",
       "      <td>...</td>\n",
       "      <td>...</td>\n",
       "      <td>...</td>\n",
       "      <td>...</td>\n",
       "      <td>...</td>\n",
       "      <td>...</td>\n",
       "      <td>...</td>\n",
       "      <td>...</td>\n",
       "      <td>...</td>\n",
       "      <td>...</td>\n",
       "      <td>...</td>\n",
       "      <td>...</td>\n",
       "      <td>...</td>\n",
       "    </tr>\n",
       "    <tr>\n",
       "      <th>39770</th>\n",
       "      <td>-0.600190</td>\n",
       "      <td>-1.054374</td>\n",
       "      <td>0.745127</td>\n",
       "      <td>0.048000</td>\n",
       "      <td>0.447191</td>\n",
       "      <td>-0.514773</td>\n",
       "      <td>-0.894632</td>\n",
       "      <td>0.493512</td>\n",
       "      <td>-1.563399</td>\n",
       "      <td>1.362518</td>\n",
       "      <td>...</td>\n",
       "      <td>60</td>\n",
       "      <td>1</td>\n",
       "      <td>2</td>\n",
       "      <td>0</td>\n",
       "      <td>50</td>\n",
       "      <td>1</td>\n",
       "      <td>Adolescente</td>\n",
       "      <td>50</td>\n",
       "      <td>26</td>\n",
       "      <td>29</td>\n",
       "    </tr>\n",
       "    <tr>\n",
       "      <th>39771</th>\n",
       "      <td>0.368676</td>\n",
       "      <td>1.644169</td>\n",
       "      <td>0.745127</td>\n",
       "      <td>1.966982</td>\n",
       "      <td>0.447191</td>\n",
       "      <td>1.390750</td>\n",
       "      <td>2.008622</td>\n",
       "      <td>1.443719</td>\n",
       "      <td>0.309238</td>\n",
       "      <td>1.362518</td>\n",
       "      <td>...</td>\n",
       "      <td>10</td>\n",
       "      <td>1</td>\n",
       "      <td>4</td>\n",
       "      <td>Mathematic</td>\n",
       "      <td>52</td>\n",
       "      <td>1</td>\n",
       "      <td>Joven adulto</td>\n",
       "      <td>52</td>\n",
       "      <td>48</td>\n",
       "      <td>48</td>\n",
       "    </tr>\n",
       "    <tr>\n",
       "      <th>39772</th>\n",
       "      <td>-0.600190</td>\n",
       "      <td>-1.054374</td>\n",
       "      <td>-0.217710</td>\n",
       "      <td>-0.911491</td>\n",
       "      <td>-1.422194</td>\n",
       "      <td>-1.467534</td>\n",
       "      <td>-0.894632</td>\n",
       "      <td>-1.406901</td>\n",
       "      <td>-0.627080</td>\n",
       "      <td>-1.270399</td>\n",
       "      <td>...</td>\n",
       "      <td>30</td>\n",
       "      <td>2</td>\n",
       "      <td>3</td>\n",
       "      <td>Computer Science</td>\n",
       "      <td>18</td>\n",
       "      <td>0</td>\n",
       "      <td>Adulto medio</td>\n",
       "      <td>18</td>\n",
       "      <td>15</td>\n",
       "      <td>19</td>\n",
       "    </tr>\n",
       "    <tr>\n",
       "      <th>39773</th>\n",
       "      <td>0.368676</td>\n",
       "      <td>-1.054374</td>\n",
       "      <td>-0.217710</td>\n",
       "      <td>0.048000</td>\n",
       "      <td>0.447191</td>\n",
       "      <td>0.437989</td>\n",
       "      <td>1.040870</td>\n",
       "      <td>1.443719</td>\n",
       "      <td>0.309238</td>\n",
       "      <td>-1.270399</td>\n",
       "      <td>...</td>\n",
       "      <td>60</td>\n",
       "      <td>1</td>\n",
       "      <td>2</td>\n",
       "      <td>History</td>\n",
       "      <td>30</td>\n",
       "      <td>1</td>\n",
       "      <td>Joven adulto</td>\n",
       "      <td>30</td>\n",
       "      <td>27</td>\n",
       "      <td>47</td>\n",
       "    </tr>\n",
       "    <tr>\n",
       "      <th>39774</th>\n",
       "      <td>-0.600190</td>\n",
       "      <td>-1.054374</td>\n",
       "      <td>-0.217710</td>\n",
       "      <td>-0.911491</td>\n",
       "      <td>1.381883</td>\n",
       "      <td>-0.514773</td>\n",
       "      <td>-0.894632</td>\n",
       "      <td>-1.406901</td>\n",
       "      <td>-1.563399</td>\n",
       "      <td>-1.270399</td>\n",
       "      <td>...</td>\n",
       "      <td>10</td>\n",
       "      <td>1</td>\n",
       "      <td>4</td>\n",
       "      <td>Cognitive Science</td>\n",
       "      <td>41</td>\n",
       "      <td>1</td>\n",
       "      <td>Adulto joven</td>\n",
       "      <td>41</td>\n",
       "      <td>24</td>\n",
       "      <td>30</td>\n",
       "    </tr>\n",
       "  </tbody>\n",
       "</table>\n",
       "<p>39719 rows × 69 columns</p>\n",
       "</div>"
      ],
      "text/plain": [
       "            Q1A       Q2A       Q3A       Q4A       Q5A       Q6A       Q7A  \\\n",
       "0      1.337541  1.644169 -0.217710  1.966982  1.381883  1.390750  2.008622   \n",
       "1      1.337541 -1.054374 -0.217710  1.007491  1.381883  1.390750  1.040870   \n",
       "2      0.368676 -1.054374  1.707964 -0.911491  1.381883  0.437989 -0.894632   \n",
       "3     -0.600190  0.744654 -0.217710 -0.911491  0.447191  0.437989  2.008622   \n",
       "4     -0.600190 -0.154860  0.745127  1.966982  1.381883 -0.514773  2.008622   \n",
       "...         ...       ...       ...       ...       ...       ...       ...   \n",
       "39770 -0.600190 -1.054374  0.745127  0.048000  0.447191 -0.514773 -0.894632   \n",
       "39771  0.368676  1.644169  0.745127  1.966982  0.447191  1.390750  2.008622   \n",
       "39772 -0.600190 -1.054374 -0.217710 -0.911491 -1.422194 -1.467534 -0.894632   \n",
       "39773  0.368676 -1.054374 -0.217710  0.048000  0.447191  0.437989  1.040870   \n",
       "39774 -0.600190 -1.054374 -0.217710 -0.911491  1.381883 -0.514773 -0.894632   \n",
       "\n",
       "            Q8A       Q9A      Q10A  ...  race  married  familysize  \\\n",
       "0      1.443719 -0.627080 -1.270399  ...    10        1           2   \n",
       "1      1.443719  0.309238 -0.392760  ...    70        1           4   \n",
       "2      0.493512 -0.627080  1.362518  ...    60        1           3   \n",
       "3     -0.456694  0.309238  0.484879  ...    70        1           5   \n",
       "4      1.443719  1.245557  0.484879  ...    10        1           4   \n",
       "...         ...       ...       ...  ...   ...      ...         ...   \n",
       "39770  0.493512 -1.563399  1.362518  ...    60        1           2   \n",
       "39771  1.443719  0.309238  1.362518  ...    10        1           4   \n",
       "39772 -1.406901 -0.627080 -1.270399  ...    30        2           3   \n",
       "39773  1.443719  0.309238 -1.270399  ...    60        1           2   \n",
       "39774 -1.406901 -1.563399 -1.270399  ...    10        1           4   \n",
       "\n",
       "                   major  Depressive Total Score  Depressive Diagnosis  \\\n",
       "0                      0                      41                     1   \n",
       "1                      0                      38                     1   \n",
       "2                      0                      53                     1   \n",
       "3                biology                      30                     1   \n",
       "4             Psychology                      46                     1   \n",
       "...                  ...                     ...                   ...   \n",
       "39770                  0                      50                     1   \n",
       "39771         Mathematic                      52                     1   \n",
       "39772   Computer Science                      18                     0   \n",
       "39773            History                      30                     1   \n",
       "39774  Cognitive Science                      41                     1   \n",
       "\n",
       "          age_group  DASS_Depression  DASS_Anxiety  DASS_Stress  \n",
       "0       Adolescente               41            48           54  \n",
       "1       Adolescente               38            31           41  \n",
       "2       Adolescente               53            26           31  \n",
       "3       Adolescente               30            31           30  \n",
       "4      Joven adulto               46            54           43  \n",
       "...             ...              ...           ...          ...  \n",
       "39770   Adolescente               50            26           29  \n",
       "39771  Joven adulto               52            48           48  \n",
       "39772  Adulto medio               18            15           19  \n",
       "39773  Joven adulto               30            27           47  \n",
       "39774  Adulto joven               41            24           30  \n",
       "\n",
       "[39719 rows x 69 columns]"
      ]
     },
     "execution_count": 91,
     "metadata": {},
     "output_type": "execute_result"
    }
   ],
   "source": [
    "#Convertimos los datos de la variable dependiente y en valores 0 o 1\n",
    "qst['Depressive Diagnosis'] = qst['Depressive Diagnosis'].map({'YES': 1, 'NO': 0})\n",
    "qst"
   ]
  },
  {
   "cell_type": "markdown",
   "id": "0a2d9d5e",
   "metadata": {},
   "source": [
    "### 2. Análisis del dato"
   ]
  },
  {
   "cell_type": "markdown",
   "id": "d734f5ba",
   "metadata": {},
   "source": [
    "Esta segunda fase de análisis del dato, vamos a emplear tres modelos diferentes: xxxxxxxxxxxxx para poder comparar estos tres modelos utilizados y finalmente poder saber cuál es el más preciso."
   ]
  },
  {
   "cell_type": "markdown",
   "id": "1fc558e3",
   "metadata": {},
   "source": [
    "Importamos librerías"
   ]
  },
  {
   "cell_type": "code",
   "execution_count": 93,
   "id": "86da953b",
   "metadata": {},
   "outputs": [],
   "source": [
    "from sklearn.model_selection import train_test_split\n",
    "from sklearn.metrics import confusion_matrix, accuracy_score, recall_score, precision_score, classification_report, f1_score, roc_auc_score"
   ]
  },
  {
   "cell_type": "markdown",
   "id": "95ff5cf0",
   "metadata": {},
   "source": [
    "**SEPARAMOS LOS DATOS -- TRAIN | TEST**"
   ]
  },
  {
   "cell_type": "code",
   "execution_count": 94,
   "id": "58a74e37",
   "metadata": {},
   "outputs": [],
   "source": [
    "nup = ['DASS_Depression', 'DASS_Anxiety', 'DASS_Stress']\n",
    "qst.drop(columns=nup, inplace=True)"
   ]
  },
  {
   "cell_type": "code",
   "execution_count": 95,
   "id": "5780d84a",
   "metadata": {},
   "outputs": [
    {
     "data": {
      "image/png": "[encoded data removed]",
      "text/plain": [
       "<Figure size 864x432 with 1 Axes>"
      ]
     },
     "metadata": {
      "needs_background": "light"
     },
     "output_type": "display_data"
    }
   ],
   "source": [
    "# Contar frecuencias sin incluir el valor \"0\"\n",
    "freq_major = qst['major'].value_counts().drop(\"0\").sort_values(ascending=False).head(10)\n",
    "\n",
    "# Mostrar como gráfico de barras\n",
    "plt.figure(figsize=(12, 6))\n",
    "freq_major.plot(kind='bar')\n",
    "plt.title(\"Distribución de 'major' (sin incluir '0')\")\n",
    "plt.xlabel(\"Major\")\n",
    "plt.ylabel(\"Frecuencia\")\n",
    "plt.xticks(rotation=45, ha='right')\n",
    "plt.tight_layout()\n",
    "plt.show()"
   ]
  },
  {
   "cell_type": "markdown",
   "id": "4d0a5205",
   "metadata": {},
   "source": [
    "Se elimina la variable 'age_group' ya que solo se quería para visualizar"
   ]
  },
  {
   "cell_type": "code",
   "execution_count": 96,
   "id": "b97fb110",
   "metadata": {},
   "outputs": [],
   "source": [
    "qst = qst.drop(columns=['age_group'])"
   ]
  },
  {
   "cell_type": "markdown",
   "id": "e2f5eb3b",
   "metadata": {},
   "source": [
    "*TEXT MINING*"
   ]
  },
  {
   "cell_type": "code",
   "execution_count": 97,
   "id": "3acd736a",
   "metadata": {},
   "outputs": [],
   "source": [
    "# Limpieza básica\n",
    "# Convertir a minúsculas y quitar espacios\n",
    "qst['major'] = qst['major'].str.lower().str.strip()"
   ]
  },
  {
   "cell_type": "code",
   "execution_count": 98,
   "id": "b46fa2df",
   "metadata": {},
   "outputs": [],
   "source": [
    "# Agrupar categorías poco frecuentes\n",
    "# Contar frecuencia de cada major\n",
    "top_majors = qst['major'].value_counts().nlargest(20).index\n",
    "\n",
    "# Reemplazar majors poco comunes por 'other'\n",
    "qst['major'] = qst['major'].apply(lambda x: x if x in top_majors else 'other')"
   ]
  },
  {
   "cell_type": "code",
   "execution_count": 99,
   "id": "cc388ed7",
   "metadata": {},
   "outputs": [
    {
     "data": {
      "text/html": [
       "<div>\n",
       "<style scoped>\n",
       "    .dataframe tbody tr th:only-of-type {\n",
       "        vertical-align: middle;\n",
       "    }\n",
       "\n",
       "    .dataframe tbody tr th {\n",
       "        vertical-align: top;\n",
       "    }\n",
       "\n",
       "    .dataframe thead th {\n",
       "        text-align: right;\n",
       "    }\n",
       "</style>\n",
       "<table border=\"1\" class=\"dataframe\">\n",
       "  <thead>\n",
       "    <tr style=\"text-align: right;\">\n",
       "      <th></th>\n",
       "      <th>Q1A</th>\n",
       "      <th>Q2A</th>\n",
       "      <th>Q3A</th>\n",
       "      <th>Q4A</th>\n",
       "      <th>Q5A</th>\n",
       "      <th>Q6A</th>\n",
       "      <th>Q7A</th>\n",
       "      <th>Q8A</th>\n",
       "      <th>Q9A</th>\n",
       "      <th>Q10A</th>\n",
       "      <th>...</th>\n",
       "      <th>major_finance</th>\n",
       "      <th>major_law</th>\n",
       "      <th>major_management</th>\n",
       "      <th>major_mechanical engineering</th>\n",
       "      <th>major_medical</th>\n",
       "      <th>major_medicine</th>\n",
       "      <th>major_nursing</th>\n",
       "      <th>major_other</th>\n",
       "      <th>major_psychology</th>\n",
       "      <th>major_science</th>\n",
       "    </tr>\n",
       "  </thead>\n",
       "  <tbody>\n",
       "    <tr>\n",
       "      <th>0</th>\n",
       "      <td>1.337541</td>\n",
       "      <td>1.644169</td>\n",
       "      <td>-0.217710</td>\n",
       "      <td>1.966982</td>\n",
       "      <td>1.381883</td>\n",
       "      <td>1.390750</td>\n",
       "      <td>2.008622</td>\n",
       "      <td>1.443719</td>\n",
       "      <td>-0.627080</td>\n",
       "      <td>-1.270399</td>\n",
       "      <td>...</td>\n",
       "      <td>0</td>\n",
       "      <td>0</td>\n",
       "      <td>0</td>\n",
       "      <td>0</td>\n",
       "      <td>0</td>\n",
       "      <td>0</td>\n",
       "      <td>0</td>\n",
       "      <td>0</td>\n",
       "      <td>0</td>\n",
       "      <td>0</td>\n",
       "    </tr>\n",
       "    <tr>\n",
       "      <th>1</th>\n",
       "      <td>1.337541</td>\n",
       "      <td>-1.054374</td>\n",
       "      <td>-0.217710</td>\n",
       "      <td>1.007491</td>\n",
       "      <td>1.381883</td>\n",
       "      <td>1.390750</td>\n",
       "      <td>1.040870</td>\n",
       "      <td>1.443719</td>\n",
       "      <td>0.309238</td>\n",
       "      <td>-0.392760</td>\n",
       "      <td>...</td>\n",
       "      <td>0</td>\n",
       "      <td>0</td>\n",
       "      <td>0</td>\n",
       "      <td>0</td>\n",
       "      <td>0</td>\n",
       "      <td>0</td>\n",
       "      <td>0</td>\n",
       "      <td>0</td>\n",
       "      <td>0</td>\n",
       "      <td>0</td>\n",
       "    </tr>\n",
       "    <tr>\n",
       "      <th>2</th>\n",
       "      <td>0.368676</td>\n",
       "      <td>-1.054374</td>\n",
       "      <td>1.707964</td>\n",
       "      <td>-0.911491</td>\n",
       "      <td>1.381883</td>\n",
       "      <td>0.437989</td>\n",
       "      <td>-0.894632</td>\n",
       "      <td>0.493512</td>\n",
       "      <td>-0.627080</td>\n",
       "      <td>1.362518</td>\n",
       "      <td>...</td>\n",
       "      <td>0</td>\n",
       "      <td>0</td>\n",
       "      <td>0</td>\n",
       "      <td>0</td>\n",
       "      <td>0</td>\n",
       "      <td>0</td>\n",
       "      <td>0</td>\n",
       "      <td>0</td>\n",
       "      <td>0</td>\n",
       "      <td>0</td>\n",
       "    </tr>\n",
       "    <tr>\n",
       "      <th>3</th>\n",
       "      <td>-0.600190</td>\n",
       "      <td>0.744654</td>\n",
       "      <td>-0.217710</td>\n",
       "      <td>-0.911491</td>\n",
       "      <td>0.447191</td>\n",
       "      <td>0.437989</td>\n",
       "      <td>2.008622</td>\n",
       "      <td>-0.456694</td>\n",
       "      <td>0.309238</td>\n",
       "      <td>0.484879</td>\n",
       "      <td>...</td>\n",
       "      <td>0</td>\n",
       "      <td>0</td>\n",
       "      <td>0</td>\n",
       "      <td>0</td>\n",
       "      <td>0</td>\n",
       "      <td>0</td>\n",
       "      <td>0</td>\n",
       "      <td>0</td>\n",
       "      <td>0</td>\n",
       "      <td>0</td>\n",
       "    </tr>\n",
       "    <tr>\n",
       "      <th>4</th>\n",
       "      <td>-0.600190</td>\n",
       "      <td>-0.154860</td>\n",
       "      <td>0.745127</td>\n",
       "      <td>1.966982</td>\n",
       "      <td>1.381883</td>\n",
       "      <td>-0.514773</td>\n",
       "      <td>2.008622</td>\n",
       "      <td>1.443719</td>\n",
       "      <td>1.245557</td>\n",
       "      <td>0.484879</td>\n",
       "      <td>...</td>\n",
       "      <td>0</td>\n",
       "      <td>0</td>\n",
       "      <td>0</td>\n",
       "      <td>0</td>\n",
       "      <td>0</td>\n",
       "      <td>0</td>\n",
       "      <td>0</td>\n",
       "      <td>0</td>\n",
       "      <td>1</td>\n",
       "      <td>0</td>\n",
       "    </tr>\n",
       "    <tr>\n",
       "      <th>...</th>\n",
       "      <td>...</td>\n",
       "      <td>...</td>\n",
       "      <td>...</td>\n",
       "      <td>...</td>\n",
       "      <td>...</td>\n",
       "      <td>...</td>\n",
       "      <td>...</td>\n",
       "      <td>...</td>\n",
       "      <td>...</td>\n",
       "      <td>...</td>\n",
       "      <td>...</td>\n",
       "      <td>...</td>\n",
       "      <td>...</td>\n",
       "      <td>...</td>\n",
       "      <td>...</td>\n",
       "      <td>...</td>\n",
       "      <td>...</td>\n",
       "      <td>...</td>\n",
       "      <td>...</td>\n",
       "      <td>...</td>\n",
       "      <td>...</td>\n",
       "    </tr>\n",
       "    <tr>\n",
       "      <th>39770</th>\n",
       "      <td>-0.600190</td>\n",
       "      <td>-1.054374</td>\n",
       "      <td>0.745127</td>\n",
       "      <td>0.048000</td>\n",
       "      <td>0.447191</td>\n",
       "      <td>-0.514773</td>\n",
       "      <td>-0.894632</td>\n",
       "      <td>0.493512</td>\n",
       "      <td>-1.563399</td>\n",
       "      <td>1.362518</td>\n",
       "      <td>...</td>\n",
       "      <td>0</td>\n",
       "      <td>0</td>\n",
       "      <td>0</td>\n",
       "      <td>0</td>\n",
       "      <td>0</td>\n",
       "      <td>0</td>\n",
       "      <td>0</td>\n",
       "      <td>0</td>\n",
       "      <td>0</td>\n",
       "      <td>0</td>\n",
       "    </tr>\n",
       "    <tr>\n",
       "      <th>39771</th>\n",
       "      <td>0.368676</td>\n",
       "      <td>1.644169</td>\n",
       "      <td>0.745127</td>\n",
       "      <td>1.966982</td>\n",
       "      <td>0.447191</td>\n",
       "      <td>1.390750</td>\n",
       "      <td>2.008622</td>\n",
       "      <td>1.443719</td>\n",
       "      <td>0.309238</td>\n",
       "      <td>1.362518</td>\n",
       "      <td>...</td>\n",
       "      <td>0</td>\n",
       "      <td>0</td>\n",
       "      <td>0</td>\n",
       "      <td>0</td>\n",
       "      <td>0</td>\n",
       "      <td>0</td>\n",
       "      <td>0</td>\n",
       "      <td>1</td>\n",
       "      <td>0</td>\n",
       "      <td>0</td>\n",
       "    </tr>\n",
       "    <tr>\n",
       "      <th>39772</th>\n",
       "      <td>-0.600190</td>\n",
       "      <td>-1.054374</td>\n",
       "      <td>-0.217710</td>\n",
       "      <td>-0.911491</td>\n",
       "      <td>-1.422194</td>\n",
       "      <td>-1.467534</td>\n",
       "      <td>-0.894632</td>\n",
       "      <td>-1.406901</td>\n",
       "      <td>-0.627080</td>\n",
       "      <td>-1.270399</td>\n",
       "      <td>...</td>\n",
       "      <td>0</td>\n",
       "      <td>0</td>\n",
       "      <td>0</td>\n",
       "      <td>0</td>\n",
       "      <td>0</td>\n",
       "      <td>0</td>\n",
       "      <td>0</td>\n",
       "      <td>0</td>\n",
       "      <td>0</td>\n",
       "      <td>0</td>\n",
       "    </tr>\n",
       "    <tr>\n",
       "      <th>39773</th>\n",
       "      <td>0.368676</td>\n",
       "      <td>-1.054374</td>\n",
       "      <td>-0.217710</td>\n",
       "      <td>0.048000</td>\n",
       "      <td>0.447191</td>\n",
       "      <td>0.437989</td>\n",
       "      <td>1.040870</td>\n",
       "      <td>1.443719</td>\n",
       "      <td>0.309238</td>\n",
       "      <td>-1.270399</td>\n",
       "      <td>...</td>\n",
       "      <td>0</td>\n",
       "      <td>0</td>\n",
       "      <td>0</td>\n",
       "      <td>0</td>\n",
       "      <td>0</td>\n",
       "      <td>0</td>\n",
       "      <td>0</td>\n",
       "      <td>1</td>\n",
       "      <td>0</td>\n",
       "      <td>0</td>\n",
       "    </tr>\n",
       "    <tr>\n",
       "      <th>39774</th>\n",
       "      <td>-0.600190</td>\n",
       "      <td>-1.054374</td>\n",
       "      <td>-0.217710</td>\n",
       "      <td>-0.911491</td>\n",
       "      <td>1.381883</td>\n",
       "      <td>-0.514773</td>\n",
       "      <td>-0.894632</td>\n",
       "      <td>-1.406901</td>\n",
       "      <td>-1.563399</td>\n",
       "      <td>-1.270399</td>\n",
       "      <td>...</td>\n",
       "      <td>0</td>\n",
       "      <td>0</td>\n",
       "      <td>0</td>\n",
       "      <td>0</td>\n",
       "      <td>0</td>\n",
       "      <td>0</td>\n",
       "      <td>0</td>\n",
       "      <td>1</td>\n",
       "      <td>0</td>\n",
       "      <td>0</td>\n",
       "    </tr>\n",
       "  </tbody>\n",
       "</table>\n",
       "<p>39719 rows × 290 columns</p>\n",
       "</div>"
      ],
      "text/plain": [
       "            Q1A       Q2A       Q3A       Q4A       Q5A       Q6A       Q7A  \\\n",
       "0      1.337541  1.644169 -0.217710  1.966982  1.381883  1.390750  2.008622   \n",
       "1      1.337541 -1.054374 -0.217710  1.007491  1.381883  1.390750  1.040870   \n",
       "2      0.368676 -1.054374  1.707964 -0.911491  1.381883  0.437989 -0.894632   \n",
       "3     -0.600190  0.744654 -0.217710 -0.911491  0.447191  0.437989  2.008622   \n",
       "4     -0.600190 -0.154860  0.745127  1.966982  1.381883 -0.514773  2.008622   \n",
       "...         ...       ...       ...       ...       ...       ...       ...   \n",
       "39770 -0.600190 -1.054374  0.745127  0.048000  0.447191 -0.514773 -0.894632   \n",
       "39771  0.368676  1.644169  0.745127  1.966982  0.447191  1.390750  2.008622   \n",
       "39772 -0.600190 -1.054374 -0.217710 -0.911491 -1.422194 -1.467534 -0.894632   \n",
       "39773  0.368676 -1.054374 -0.217710  0.048000  0.447191  0.437989  1.040870   \n",
       "39774 -0.600190 -1.054374 -0.217710 -0.911491  1.381883 -0.514773 -0.894632   \n",
       "\n",
       "            Q8A       Q9A      Q10A  ...  major_finance  major_law  \\\n",
       "0      1.443719 -0.627080 -1.270399  ...              0          0   \n",
       "1      1.443719  0.309238 -0.392760  ...              0          0   \n",
       "2      0.493512 -0.627080  1.362518  ...              0          0   \n",
       "3     -0.456694  0.309238  0.484879  ...              0          0   \n",
       "4      1.443719  1.245557  0.484879  ...              0          0   \n",
       "...         ...       ...       ...  ...            ...        ...   \n",
       "39770  0.493512 -1.563399  1.362518  ...              0          0   \n",
       "39771  1.443719  0.309238  1.362518  ...              0          0   \n",
       "39772 -1.406901 -0.627080 -1.270399  ...              0          0   \n",
       "39773  1.443719  0.309238 -1.270399  ...              0          0   \n",
       "39774 -1.406901 -1.563399 -1.270399  ...              0          0   \n",
       "\n",
       "       major_management  major_mechanical engineering  major_medical  \\\n",
       "0                     0                             0              0   \n",
       "1                     0                             0              0   \n",
       "2                     0                             0              0   \n",
       "3                     0                             0              0   \n",
       "4                     0                             0              0   \n",
       "...                 ...                           ...            ...   \n",
       "39770                 0                             0              0   \n",
       "39771                 0                             0              0   \n",
       "39772                 0                             0              0   \n",
       "39773                 0                             0              0   \n",
       "39774                 0                             0              0   \n",
       "\n",
       "       major_medicine  major_nursing  major_other  major_psychology  \\\n",
       "0                   0              0            0                 0   \n",
       "1                   0              0            0                 0   \n",
       "2                   0              0            0                 0   \n",
       "3                   0              0            0                 0   \n",
       "4                   0              0            0                 1   \n",
       "...               ...            ...          ...               ...   \n",
       "39770               0              0            0                 0   \n",
       "39771               0              0            1                 0   \n",
       "39772               0              0            0                 0   \n",
       "39773               0              0            1                 0   \n",
       "39774               0              0            1                 0   \n",
       "\n",
       "       major_science  \n",
       "0                  0  \n",
       "1                  0  \n",
       "2                  0  \n",
       "3                  0  \n",
       "4                  0  \n",
       "...              ...  \n",
       "39770              0  \n",
       "39771              0  \n",
       "39772              0  \n",
       "39773              0  \n",
       "39774              0  \n",
       "\n",
       "[39719 rows x 290 columns]"
      ]
     },
     "execution_count": 99,
     "metadata": {},
     "output_type": "execute_result"
    }
   ],
   "source": [
    "# Convertir a variable numérica\n",
    "# Columnas categóricas - One Hot Encoding\n",
    "var = pd.get_dummies(qst, columns=['country', 'major'], drop_first=True)\n",
    "var2 = qst.drop(['country', 'major'], axis=1)\n",
    "\n",
    "# Concatenar las dos variables para obtener el dataset con todas las variables numéricas\n",
    "qst = pd.concat([var2, var], axis=1)\n",
    "qst"
   ]
  },
  {
   "cell_type": "code",
   "execution_count": 100,
   "id": "32fb5b11",
   "metadata": {},
   "outputs": [],
   "source": [
    "# Separamos el conjunto de datos en train 80% y test 20%\n",
    "train, test = train_test_split(qst, test_size = 0.2, shuffle = True)"
   ]
  },
  {
   "cell_type": "code",
   "execution_count": 101,
   "id": "3e97d467",
   "metadata": {},
   "outputs": [
    {
     "name": "stdout",
     "output_type": "stream",
     "text": [
      "Train data size:  (31775, 290)\n",
      "Test data size:  (7944, 290)\n"
     ]
    }
   ],
   "source": [
    "print('Train data size: ', train.shape)\n",
    "print('Test data size: ', test.shape)"
   ]
  },
  {
   "cell_type": "code",
   "execution_count": 102,
   "id": "49c1b924",
   "metadata": {},
   "outputs": [
    {
     "name": "stdout",
     "output_type": "stream",
     "text": [
      "['Q1A', 'Q2A', 'Q3A', 'Q4A', 'Q5A', 'Q6A', 'Q7A', 'Q8A', 'Q9A', 'Q10A', 'Q11A', 'Q12A', 'Q13A', 'Q14A', 'Q15A', 'Q16A', 'Q17A', 'Q18A', 'Q19A', 'Q20A', 'Q21A', 'Q22A', 'Q23A', 'Q24A', 'Q25A', 'Q26A', 'Q27A', 'Q28A', 'Q29A', 'Q30A', 'Q31A', 'Q32A', 'Q33A', 'Q34A', 'Q35A', 'Q36A', 'Q37A', 'Q38A', 'Q39A', 'Q40A', 'Q41A', 'Q42A', 'TIPI1', 'TIPI2', 'TIPI3', 'TIPI4', 'TIPI5', 'TIPI6', 'TIPI7', 'TIPI8', 'TIPI9', 'TIPI10', 'education', 'urban', 'gender', 'age', 'religion', 'orientation', 'race', 'married', 'familysize', 'Depressive Total Score', 'Depressive Diagnosis', 'Q1A', 'Q2A', 'Q3A', 'Q4A', 'Q5A', 'Q6A', 'Q7A', 'Q8A', 'Q9A', 'Q10A', 'Q11A', 'Q12A', 'Q13A', 'Q14A', 'Q15A', 'Q16A', 'Q17A', 'Q18A', 'Q19A', 'Q20A', 'Q21A', 'Q22A', 'Q23A', 'Q24A', 'Q25A', 'Q26A', 'Q27A', 'Q28A', 'Q29A', 'Q30A', 'Q31A', 'Q32A', 'Q33A', 'Q34A', 'Q35A', 'Q36A', 'Q37A', 'Q38A', 'Q39A', 'Q40A', 'Q41A', 'Q42A', 'TIPI1', 'TIPI2', 'TIPI3', 'TIPI4', 'TIPI5', 'TIPI6', 'TIPI7', 'TIPI8', 'TIPI9', 'TIPI10', 'education', 'urban', 'gender', 'age', 'religion', 'orientation', 'race', 'married', 'familysize', 'Depressive Total Score', 'Depressive Diagnosis', 'country_AF', 'country_AL', 'country_AM', 'country_AO', 'country_AR', 'country_AT', 'country_AU', 'country_AW', 'country_AZ', 'country_BA', 'country_BB', 'country_BD', 'country_BE', 'country_BG', 'country_BH', 'country_BN', 'country_BO', 'country_BR', 'country_BS', 'country_BW', 'country_BY', 'country_BZ', 'country_CA', 'country_CH', 'country_CL', 'country_CN', 'country_CO', 'country_CR', 'country_CW', 'country_CY', 'country_CZ', 'country_DE', 'country_DK', 'country_DO', 'country_DZ', 'country_EC', 'country_EE', 'country_EG', 'country_ES', 'country_ET', 'country_FI', 'country_FO', 'country_FR', 'country_GB', 'country_GE', 'country_GG', 'country_GH', 'country_GR', 'country_GT', 'country_GU', 'country_GY', 'country_HK', 'country_HN', 'country_HR', 'country_HU', 'country_ID', 'country_IE', 'country_IL', 'country_IM', 'country_IN', 'country_IQ', 'country_IR', 'country_IS', 'country_IT', 'country_JE', 'country_JM', 'country_JO', 'country_JP', 'country_KE', 'country_KH', 'country_KR', 'country_KW', 'country_KY', 'country_KZ', 'country_LA', 'country_LB', 'country_LK', 'country_LT', 'country_LU', 'country_LV', 'country_MA', 'country_MD', 'country_ME', 'country_MK', 'country_MN', 'country_MO', 'country_MT', 'country_MU', 'country_MV', 'country_MX', 'country_MY', 'country_MZ', 'country_NG', 'country_NI', 'country_NL', 'country_NO', 'country_NONE', 'country_NP', 'country_NZ', 'country_OM', 'country_PA', 'country_PE', 'country_PH', 'country_PK', 'country_PL', 'country_PR', 'country_PS', 'country_PT', 'country_PY', 'country_QA', 'country_RE', 'country_RO', 'country_RS', 'country_RU', 'country_SA', 'country_SC', 'country_SD', 'country_SE', 'country_SG', 'country_SI', 'country_SK', 'country_SN', 'country_SR', 'country_SV', 'country_SY', 'country_TG', 'country_TH', 'country_TJ', 'country_TN', 'country_TR', 'country_TT', 'country_TW', 'country_TZ', 'country_UA', 'country_US', 'country_UY', 'country_UZ', 'country_VC', 'country_VE', 'country_VN', 'country_VU', 'country_XK', 'country_ZA', 'country_ZW', 'major_accounting', 'major_architecture', 'major_biology', 'major_business', 'major_chemical engineering', 'major_civil engineering', 'major_computer science', 'major_education', 'major_engineering', 'major_english', 'major_finance', 'major_law', 'major_management', 'major_mechanical engineering', 'major_medical', 'major_medicine', 'major_nursing', 'major_other', 'major_psychology', 'major_science']\n"
     ]
    }
   ],
   "source": [
    "print(train.columns.tolist())"
   ]
  },
  {
   "cell_type": "markdown",
   "id": "adb7ba9a",
   "metadata": {},
   "source": [
    "2.1 Indicamos la variable dependiente"
   ]
  },
  {
   "cell_type": "code",
   "execution_count": 103,
   "id": "c0b275b6",
   "metadata": {},
   "outputs": [],
   "source": [
    "x_train = train.drop(columns='Depressive Diagnosis')\n",
    "y_train = train['Depressive Diagnosis']\n",
    "x_test = test.drop(columns='Depressive Diagnosis')\n",
    "y_test = test['Depressive Diagnosis']"
   ]
  },
  {
   "cell_type": "code",
   "execution_count": 104,
   "id": "d46e5215",
   "metadata": {},
   "outputs": [
    {
     "name": "stdout",
     "output_type": "stream",
     "text": [
      "<class 'pandas.core.frame.DataFrame'>\n"
     ]
    }
   ],
   "source": [
    "print(type(y_train))"
   ]
  },
  {
   "cell_type": "code",
   "execution_count": 105,
   "id": "9efe18e7",
   "metadata": {},
   "outputs": [
    {
     "name": "stdout",
     "output_type": "stream",
     "text": [
      "Index(['Q1A', 'Q2A', 'Q3A', 'Q4A', 'Q5A', 'Q6A', 'Q7A', 'Q8A', 'Q9A', 'Q10A',\n",
      "       'Q11A', 'Q12A', 'Q13A', 'Q14A', 'Q15A', 'Q16A', 'Q17A', 'Q18A', 'Q19A',\n",
      "       'Q20A', 'Q21A', 'Q22A', 'Q23A', 'Q24A', 'Q25A', 'Q26A', 'Q27A', 'Q28A',\n",
      "       'Q29A', 'Q30A', 'Q31A', 'Q32A', 'Q33A', 'Q34A', 'Q35A', 'Q36A', 'Q37A',\n",
      "       'Q38A', 'Q39A', 'Q40A', 'Q41A', 'Q42A', 'TIPI1', 'TIPI2', 'TIPI3',\n",
      "       'TIPI4', 'TIPI5', 'TIPI6', 'TIPI7', 'TIPI8', 'TIPI9', 'TIPI10',\n",
      "       'education', 'urban', 'gender', 'age', 'religion', 'orientation',\n",
      "       'race', 'married', 'familysize', 'Depressive Total Score',\n",
      "       'Depressive Diagnosis'],\n",
      "      dtype='object')\n"
     ]
    }
   ],
   "source": [
    "print(train.columns[train.columns.duplicated()])"
   ]
  },
  {
   "cell_type": "code",
   "execution_count": 106,
   "id": "c2e456c0",
   "metadata": {},
   "outputs": [],
   "source": [
    "# Quitar duplicados de nombre (conservando solo la primera aparición)\n",
    "train = train.loc[:, ~train.columns.duplicated()]\n",
    "test = test.loc[:, ~test.columns.duplicated()]"
   ]
  },
  {
   "cell_type": "code",
   "execution_count": 107,
   "id": "ed377125",
   "metadata": {},
   "outputs": [],
   "source": [
    "x_train = train.drop(columns='Depressive Diagnosis')\n",
    "y_train = train['Depressive Diagnosis']\n",
    "x_test = test.drop(columns='Depressive Diagnosis')\n",
    "y_test = test['Depressive Diagnosis']"
   ]
  },
  {
   "cell_type": "code",
   "execution_count": 108,
   "id": "16703ce0",
   "metadata": {},
   "outputs": [
    {
     "name": "stdout",
     "output_type": "stream",
     "text": [
      "1    26922\n",
      "0     4853\n",
      "Name: Depressive Diagnosis, dtype: int64 \n",
      "\n",
      "1    6735\n",
      "0    1209\n",
      "Name: Depressive Diagnosis, dtype: int64 \n",
      "\n"
     ]
    }
   ],
   "source": [
    "print(y_train.value_counts(), '\\n')\n",
    "print(y_test.value_counts(), '\\n')"
   ]
  },
  {
   "cell_type": "code",
   "execution_count": 109,
   "id": "d14b4f68",
   "metadata": {},
   "outputs": [
    {
     "name": "stdout",
     "output_type": "stream",
     "text": [
      "<class 'pandas.core.series.Series'>\n"
     ]
    }
   ],
   "source": [
    "print(type(y_train))"
   ]
  },
  {
   "cell_type": "code",
   "execution_count": 114,
   "id": "d7c4eb63",
   "metadata": {},
   "outputs": [],
   "source": [
    "y_train = y_train.astype('int')\n",
    "y_test = y_test.astype('int')"
   ]
  },
  {
   "cell_type": "code",
   "execution_count": 115,
   "id": "3a820c57",
   "metadata": {},
   "outputs": [],
   "source": [
    "# Eliminar la columna 'Depressive Total Score' del conjunto de datos por sobreajuste\n",
    "x_train_without_total = x_train.drop(columns=['Depressive Total Score'])\n",
    "x_test_without_total = x_test.drop(columns=['Depressive Total Score'])"
   ]
  },
  {
   "cell_type": "markdown",
   "id": "3b78509b",
   "metadata": {},
   "source": [
    "**Regresión Logística**"
   ]
  },
  {
   "cell_type": "code",
   "execution_count": 116,
   "id": "537be7b3",
   "metadata": {},
   "outputs": [],
   "source": [
    "from sklearn.linear_model import LogisticRegression\n",
    "# Regresión Logística\n",
    "# Creamos el modelo de regresion logistica\n",
    "lr = LogisticRegression(penalty='l2',  C=0.1,  solver='liblinear',   \n",
    "                        max_iter=200, random_state=42,\n",
    "                        fit_intercept=True,  class_weight='balanced',\n",
    "                        warm_start=False)\n",
    "\n",
    "# Entrenamos el modelo\n",
    "lr.fit(x_train_without_total, y_train)\n",
    "\n",
    "# Predecimos el modelo\n",
    "y_pred_test_lr = lr.predict(x_test_without_total)"
   ]
  },
  {
   "cell_type": "markdown",
   "id": "8deef536",
   "metadata": {},
   "source": [
    "Medidas de error y/o precisión"
   ]
  },
  {
   "cell_type": "code",
   "execution_count": 117,
   "id": "313da2e8",
   "metadata": {},
   "outputs": [
    {
     "name": "stdout",
     "output_type": "stream",
     "text": [
      "Accuracy: 0.975\n",
      "Precision: 1.000\n",
      "Recall: 0.971\n",
      "F1-score: 0.985\n",
      "ROC AUC: 0.985\n",
      "              precision    recall  f1-score   support\n",
      "\n",
      "           0       1.00      0.86      0.92      1405\n",
      "           1       0.97      1.00      0.99      6539\n",
      "\n",
      "    accuracy                           0.98      7944\n",
      "   macro avg       0.98      0.93      0.95      7944\n",
      "weighted avg       0.98      0.98      0.97      7944\n",
      "\n"
     ]
    }
   ],
   "source": [
    "accuracy_test = accuracy_score(y_test, y_pred_test_lr)\n",
    "precision_test = precision_score(y_test, y_pred_test_lr)\n",
    "recall_test = recall_score(y_test, y_pred_test_lr)\n",
    "f1_test = f1_score(y_test, y_pred_test_lr)\n",
    "roc_auc_test = roc_auc_score(y_test, y_pred_test_lr)\n",
    "\n",
    "print(\"Accuracy: {:.3f}\".format(accuracy_test))\n",
    "print(\"Precision: {:.3f}\".format(precision_test))\n",
    "print(\"Recall: {:.3f}\".format(recall_test))\n",
    "print(\"F1-score: {:.3f}\".format(f1_test))\n",
    "print(\"ROC AUC: {:.3f}\".format(roc_auc_test))\n",
    "print(classification_report(y_pred_test_lr, y_test))\n",
    "cm_lr = confusion_matrix(y_test, y_pred_test_lr)"
   ]
  },
  {
   "cell_type": "markdown",
   "id": "85889062",
   "metadata": {},
   "source": [
    "Matriz de confusión"
   ]
  },
  {
   "cell_type": "code",
   "execution_count": 118,
   "id": "f07e8b5b",
   "metadata": {},
   "outputs": [
    {
     "data": {
      "image/png": "[encoded data removed]",
      "text/plain": [
       "<Figure size 504x504 with 2 Axes>"
      ]
     },
     "metadata": {},
     "output_type": "display_data"
    }
   ],
   "source": [
    "#MATRIZ DE CONFUSION\n",
    "# Configuramos el estilo de la tabla\n",
    "sns.set(style='whitegrid', font_scale=1.4)\n",
    "\n",
    "# Creamos la tabla con colores\n",
    "fig, ax = plt.subplots(figsize=(7, 7))\n",
    "ax = sns.heatmap(cm_lr, annot=True, cmap='coolwarm', fmt='g', cbar=True)\n",
    "\n",
    "# Configuramos los títulos y etiquetas\n",
    "ax.set_xlabel('Valor predicho', fontsize=14)\n",
    "ax.set_ylabel('Valores real', fontsize=14)\n",
    "ax.set_title('Matriz de confusión - Regresión Logística', fontsize=16)\n",
    "ax.xaxis.set_ticklabels(['No depresivo', 'Depresivo'])\n",
    "ax.yaxis.set_ticklabels(['No depresivo', 'Depresivo'])\n",
    "\n",
    "plt.show()"
   ]
  },
  {
   "cell_type": "markdown",
   "id": "af897b1c",
   "metadata": {},
   "source": [
    "**Árboles de decisión**"
   ]
  },
  {
   "cell_type": "code",
   "execution_count": 133,
   "id": "a061e115",
   "metadata": {},
   "outputs": [],
   "source": [
    "from sklearn.tree import DecisionTreeClassifier, plot_tree\n",
    "# ÁRBOL DE DECISIÓN\n",
    "\n",
    "# Creamos el arbol de decisión\n",
    "tree = DecisionTreeClassifier(criterion='entropy',  \n",
    "                              min_samples_split=20,  min_samples_leaf=10,  \n",
    "                              random_state=42, class_weight='balanced')\n",
    "\n",
    "# Entrenamos el modelo\n",
    "tree.fit(x_train_without_total, y_train)\n",
    "\n",
    "# Predecimos el modelo\n",
    "y_pred_test_tree = tree.predict(x_test_without_total)"
   ]
  },
  {
   "cell_type": "markdown",
   "id": "790cd2f9",
   "metadata": {},
   "source": [
    "Medidas de error y/o precisión"
   ]
  },
  {
   "cell_type": "code",
   "execution_count": 120,
   "id": "a5f7c133",
   "metadata": {},
   "outputs": [
    {
     "name": "stdout",
     "output_type": "stream",
     "text": [
      "Accuracy: 0.953\n",
      "Precision: 0.990\n",
      "Recall: 0.953\n",
      "F1-score: 0.971\n",
      "ROC AUC: 0.951\n",
      "              precision    recall  f1-score   support\n",
      "\n",
      "           0       0.95      0.78      0.86      1460\n",
      "           1       0.95      0.99      0.97      6484\n",
      "\n",
      "    accuracy                           0.95      7944\n",
      "   macro avg       0.95      0.89      0.92      7944\n",
      "weighted avg       0.95      0.95      0.95      7944\n",
      "\n"
     ]
    }
   ],
   "source": [
    "accuracy_test = accuracy_score(y_test, y_pred_test_tree)\n",
    "precision_test = precision_score(y_test, y_pred_test_tree)\n",
    "recall_test = recall_score(y_test, y_pred_test_tree)\n",
    "f1_test = f1_score(y_test, y_pred_test_tree)\n",
    "roc_auc_test = roc_auc_score(y_test, y_pred_test_tree)\n",
    "\n",
    "print(\"Accuracy: {:.3f}\".format(accuracy_test))\n",
    "print(\"Precision: {:.3f}\".format(precision_test))\n",
    "print(\"Recall: {:.3f}\".format(recall_test))\n",
    "print(\"F1-score: {:.3f}\".format(f1_test))\n",
    "print(\"ROC AUC: {:.3f}\".format(roc_auc_test))\n",
    "print(classification_report(y_pred_test_tree, y_test))\n",
    "cm_tree = confusion_matrix(y_test, y_pred_test_tree)"
   ]
  },
  {
   "cell_type": "markdown",
   "id": "9cf6d5ca",
   "metadata": {},
   "source": [
    "Matriz de confusión"
   ]
  },
  {
   "cell_type": "code",
   "execution_count": 121,
   "id": "3e4b5bb0",
   "metadata": {},
   "outputs": [
    {
     "data": {
      "image/png": "[encoded data removed]",
      "text/plain": [
       "<Figure size 504x504 with 2 Axes>"
      ]
     },
     "metadata": {},
     "output_type": "display_data"
    }
   ],
   "source": [
    "#MATRIZ DE CONFUSIÓN\n",
    "# Configuramos el estilo de la tabla\n",
    "sns.set(style='whitegrid', font_scale=1.4)\n",
    "\n",
    "# Creamos la tabla con colores\n",
    "fig, ax = plt.subplots(figsize=(7, 7))\n",
    "ax = sns.heatmap(cm_tree, annot=True, cmap='coolwarm', fmt='g', cbar=True)\n",
    "\n",
    "# Configuramos los títulos y etiquetas\n",
    "ax.set_xlabel('Valor predicho', fontsize=14)\n",
    "ax.set_ylabel('Valores real', fontsize=14)\n",
    "ax.set_title('Matriz de confusión - Árboles de decisión', fontsize=16)\n",
    "ax.xaxis.set_ticklabels(['No depresivo', 'Depresivo'])\n",
    "ax.yaxis.set_ticklabels(['No depresivo', 'Depresivo'])\n",
    "\n",
    "plt.show()"
   ]
  },
  {
   "cell_type": "code",
   "execution_count": 138,
   "id": "2ff59a41",
   "metadata": {},
   "outputs": [
    {
     "data": {
      "image/png": "[encoded data removed]",
      "text/plain": [
       "<Figure size 1440x720 with 1 Axes>"
      ]
     },
     "metadata": {},
     "output_type": "display_data"
    }
   ],
   "source": [
    "plt.figure(figsize=(20, 10))\n",
    "plot_tree(tree,\n",
    "          feature_names=x_train.columns,\n",
    "          class_names=[\"No Depresión\", \"Depresión\"],\n",
    "          filled=True,\n",
    "          rounded=True,\n",
    "          max_depth=2)  # Solo muestra hasta 3 niveles\n",
    "plt.show()"
   ]
  },
  {
   "cell_type": "markdown",
   "id": "05d4bc82",
   "metadata": {},
   "source": [
    "**Random Forest**"
   ]
  },
  {
   "cell_type": "code",
   "execution_count": 122,
   "id": "f01519ce",
   "metadata": {},
   "outputs": [],
   "source": [
    "from sklearn.ensemble import RandomForestClassifier\n",
    "# RANDOM FOREST\n",
    "\n",
    "# Creamos el modelo Random Forest\n",
    "forest = RandomForestClassifier(n_estimators=300, max_depth=10, \n",
    "                                min_samples_split=5, min_samples_leaf=3,\n",
    "                                max_features='sqrt', class_weight='balanced',\n",
    "                                random_state=42)\n",
    "\n",
    "# Entrenamos el modelo\n",
    "forest.fit(x_train_without_total, y_train)\n",
    "\n",
    "# Predecimos\n",
    "y_pred_test_forest = forest.predict(x_test_without_total)"
   ]
  },
  {
   "cell_type": "markdown",
   "id": "d8ad3f1e",
   "metadata": {},
   "source": [
    "Medidas de error y/o precisión"
   ]
  },
  {
   "cell_type": "code",
   "execution_count": 123,
   "id": "70e7cb6a",
   "metadata": {},
   "outputs": [
    {
     "name": "stdout",
     "output_type": "stream",
     "text": [
      "Accuracy: 0.962\n",
      "Precision: 0.999\n",
      "Recall: 0.956\n",
      "F1-score: 0.977\n",
      "ROC AUC: 0.976\n",
      "              precision    recall  f1-score   support\n",
      "\n",
      "           0       0.80      1.00      0.89      1209\n",
      "           1       1.00      0.96      0.98      6735\n",
      "\n",
      "    accuracy                           0.96      7944\n",
      "   macro avg       0.90      0.98      0.93      7944\n",
      "weighted avg       0.97      0.96      0.96      7944\n",
      "\n"
     ]
    }
   ],
   "source": [
    "accuracy_test = accuracy_score(y_test, y_pred_test_forest)\n",
    "precision_test = precision_score(y_test, y_pred_test_forest)\n",
    "recall_test = recall_score(y_test, y_pred_test_forest)\n",
    "f1_test = f1_score(y_test, y_pred_test_forest)\n",
    "roc_auc_test = roc_auc_score(y_test, y_pred_test_forest)\n",
    "\n",
    "print(\"Accuracy: {:.3f}\".format(accuracy_test))\n",
    "print(\"Precision: {:.3f}\".format(precision_test))\n",
    "print(\"Recall: {:.3f}\".format(recall_test))\n",
    "print(\"F1-score: {:.3f}\".format(f1_test))\n",
    "print(\"ROC AUC: {:.3f}\".format(roc_auc_test))\n",
    "\n",
    "print(classification_report(y_test, y_pred_test_forest))\n",
    "cm_forest = confusion_matrix(y_test, y_pred_test_forest)"
   ]
  },
  {
   "cell_type": "markdown",
   "id": "d514c5fe",
   "metadata": {},
   "source": [
    "Matriz de confusión"
   ]
  },
  {
   "cell_type": "code",
   "execution_count": 124,
   "id": "d5000417",
   "metadata": {},
   "outputs": [
    {
     "data": {
      "image/png": "[encoded data removed]",
      "text/plain": [
       "<Figure size 504x504 with 2 Axes>"
      ]
     },
     "metadata": {},
     "output_type": "display_data"
    }
   ],
   "source": [
    "# MATRIZ DE CONFUSIÓN\n",
    "# Configuramos el estilo de la tabla\n",
    "sns.set(style=\"whitegrid\", font_scale=1.4)\n",
    "\n",
    "# Creamos la tabla con colores\n",
    "fig, ax = plt.subplots(figsize=(7, 7))\n",
    "sns.heatmap(cm_forest, annot=True, cmap='coolwarm', fmt='g', cbar=True, ax=ax)\n",
    "\n",
    "# Configuramos los títulos y etiquetas\n",
    "ax.set_title('Matriz de confusión - Random Forest', fontsize=14)\n",
    "ax.set_ylabel('Valores reales', fontsize=14)\n",
    "ax.set_xlabel('Valores predichos', fontsize=14)\n",
    "ax.xaxis.set_ticklabels(['No depresivo', 'Depresivo'])\n",
    "ax.yaxis.set_ticklabels(['No depresivo', 'Depresivo'])\n",
    "\n",
    "plt.show()"
   ]
  },
  {
   "cell_type": "markdown",
   "id": "ab7fd7ad",
   "metadata": {},
   "source": [
    "#### IMPORTANCIA DE LAS VARIABLES"
   ]
  },
  {
   "cell_type": "code",
   "execution_count": 128,
   "id": "84d59e10",
   "metadata": {},
   "outputs": [
    {
     "data": {
      "image/png": "[encoded data removed]",
      "text/plain": [
       "<Figure size 720x360 with 1 Axes>"
      ]
     },
     "metadata": {},
     "output_type": "display_data"
    }
   ],
   "source": [
    "from sklearn.inspection import permutation_importance\n",
    "\n",
    "# Calcular importancia\n",
    "perm = permutation_importance(lr, x_test_without_total, y_test, n_repeats=10, random_state=42)\n",
    "\n",
    "# Crear DataFrame\n",
    "perm_df = pd.DataFrame({\n",
    "    'Variable': x_test_without_total.columns,\n",
    "    'Importancia': perm.importances_mean\n",
    "})\n",
    "\n",
    "# Filtrar síntomas (por ejemplo, columnas que empiezan con 'Q')\n",
    "perm_df = perm_df[perm_df['Variable'].str.startswith('Q')]\n",
    "\n",
    "# Top 10 síntomas\n",
    "top_symptoms = perm_df.sort_values(by='Importancia', ascending=False).head(10)\n",
    "\n",
    "# Visualizar\n",
    "plt.figure(figsize=(10, 5))\n",
    "plt.barh(top_symptoms['Variable'], top_symptoms['Importancia'], color='skyblue')\n",
    "plt.xlabel('Importancia (permutación)')\n",
    "plt.title('Top 10 síntomas más relevantes en la predicción')\n",
    "plt.gca().invert_yaxis()\n",
    "plt.tight_layout()\n",
    "plt.show()"
   ]
  }
 ],
 "metadata": {
  "kernelspec": {
   "display_name": "Python 3 (ipykernel)",
   "language": "python",
   "name": "python3"
  },
  "language_info": {
   "codemirror_mode": {
    "name": "ipython",
    "version": 3
   },
   "file_extension": ".py",
   "mimetype": "text/x-python",
   "name": "python",
   "nbconvert_exporter": "python",
   "pygments_lexer": "ipython3",
   "version": "3.9.12"
  }
 },
 "nbformat": 4,
 "nbformat_minor": 5
}
